{
 "cells": [
  {
   "cell_type": "code",
   "execution_count": 1,
   "metadata": {},
   "outputs": [],
   "source": [
    "import os\n",
    "import time\n",
    "import math\n",
    "import random\n",
    "import shutil\n",
    "import contextlib\n",
    "import matplotlib.pyplot as plt\n",
    "%matplotlib inline\n",
    "\n",
    "import torch\n",
    "import torch.optim as optim\n",
    "import torch.nn as nn\n",
    "import torch.nn.functional as F\n",
    "from torch.nn.utils.rnn import pad_sequence\n",
    "import torch.utils.data as data\n",
    "import torchvision.transforms as transforms\n",
    "\n",
    "from utils.converter import LabelConverter, IndexConverter\n",
    "from datasets.dataset import InMemoryDigitsDataset, DigitsDataset, collate_train, collate_dev, inmemory_train, inmemory_dev\n",
    "from generate import gen_text_img\n",
    "\n",
    "import arguments\n",
    "from models.densenet_ import DenseNet"
   ]
  },
  {
   "cell_type": "code",
   "execution_count": 2,
   "metadata": {},
   "outputs": [
    {
     "data": {
      "text/plain": [
       "0"
      ]
     },
     "execution_count": 2,
     "metadata": {},
     "output_type": "execute_result"
    }
   ],
   "source": [
    "torch.cuda.current_device()"
   ]
  },
  {
   "cell_type": "code",
   "execution_count": 42,
   "metadata": {},
   "outputs": [
    {
     "name": "stdout",
     "output_type": "stream",
     "text": [
      "torch.float32\n",
      "torch.int64\n",
      "torch.int32\n",
      "torch.int64\n"
     ]
    }
   ],
   "source": [
    "import torch\n",
    "import torch.nn as nn\n",
    "import torch.nn.functional as F\n",
    "import sys\n",
    "sys.argv = ['main.py','--dataset-root','alphabet','--arch','densenet121','--alphabet','alphabet/alphabet_decode_5990.txt',\n",
    "            '--lr','5e-5','--max-epoch','20','--optimizer','rmsprop','--gpu-id','0']\n",
    "args = arguments.parse_args()\n",
    "if args.gpu_id < 0:\n",
    "    device = torch.device(\"cpu\")\n",
    "else:\n",
    "#     os.environ[\"CUDA_VISIBLE_DEVICES\"] = str(args.gpu_id)\n",
    "    device = torch.device(\"cuda\")\n",
    "#     torch.backends.cudnn.benchmark = True\n",
    "    \n",
    "if os.path.isfile(args.alphabet):\n",
    "    alphabet = ''\n",
    "    with open(args.alphabet, mode='r', encoding='utf-8') as f:\n",
    "        for line in f.readlines():\n",
    "            alphabet += line.strip()\n",
    "    args.alphabet = alphabet\n",
    "\n",
    "num = 2\n",
    "dev_num = num\n",
    "use_file = 1\n",
    "text = \"嘤嘤嘤\"\n",
    "text_length = 10\n",
    "font_size = -1\n",
    "font_id = -1\n",
    "space_width = 1\n",
    "text_color = '#282828'\n",
    "thread_count = 8\n",
    "channel = 3\n",
    "\n",
    "random_skew = True\n",
    "skew_angle = 2\n",
    "random_blur = True\n",
    "blur = 0.5\n",
    "\n",
    "orientation = 0\n",
    "distorsion = -1\n",
    "distorsion_orientation = 2\n",
    "background = 1\n",
    "\n",
    "random_process = True\n",
    "noise = 20\n",
    "erode = 2\n",
    "dilate = 2\n",
    "incline = 10\n",
    "transform = transforms.Compose([\n",
    "    transforms.Resize((32, 280)),\n",
    "    transforms.ToTensor(),\n",
    "])\n",
    "\n",
    "model = DenseNet(num_classes=len(args.alphabet) + 1).to(device)\n",
    "text_meta, text_img = gen_text_img(num, use_file, text, text_length, font_size, font_id, space_width,\n",
    "                                       background, text_color,\n",
    "                                       orientation, blur, random_blur, distorsion, distorsion_orientation,\n",
    "                                       skew_angle, random_skew,\n",
    "                                       random_process, noise, erode, dilate, incline,\n",
    "                                                                thread_count)\n",
    "dev_meta, dev_img = text_meta, text_img\n",
    "\n",
    "index_converter = IndexConverter(args.alphabet, ignore_case=True)\n",
    "\n",
    "train_dataset = InMemoryDigitsDataset(mode='train', text=text_meta, img=text_img, total=num,\n",
    "                                     transform=transform, converter = index_converter)\n",
    "dev_dataset = InMemoryDigitsDataset(mode='dev', text=dev_meta, img=dev_img, total=num,\n",
    "                                   transform=transform, converter = index_converter)\n",
    "\n",
    "train_loader = data.DataLoader(dataset=train_dataset,batch_size=args.batch_size, num_workers=4, shuffle=True,\n",
    "                               collate_fn=collate_train, pin_memory=True)\n",
    "dev_loader = data.DataLoader(dataset=dev_dataset,batch_size=args.batch_size, num_workers=4, shuffle=False,\n",
    "                             collate_fn=collate_dev, pin_memory=False)\n",
    "\n",
    "for i, sample in enumerate(train_loader):\n",
    "        images = sample.images.to(device)\n",
    "        targets = sample.targets.type(torch.long).to(device)\n",
    "        target_lengths = sample.target_lengths.type(torch.long).to(device)\n",
    "        \n",
    "        log_probs = model(images).to(device)\n",
    "        input_lengths = torch.full((images.size(0),),log_probs.size(0), dtype=torch.long).to(device)\n",
    "        print(log_probs.dtype)\n",
    "        print(targets.dtype)\n",
    "        print(input_lengths.dtype)\n",
    "        print(target_lengths.dtype)\n",
    "        loss = ctc_loss(log_probs, targets, input_lengths, target_lengths)\n",
    "        loss.backward()"
   ]
  },
  {
   "cell_type": "code",
   "execution_count": 35,
   "metadata": {},
   "outputs": [],
   "source": [
    "T = 35      # Input sequence length\n",
    "C = 5990      # Number of classes (excluding blank)\n",
    "N = 64      # Batch size\n",
    "S = 30      # Target sequence length of longest target in batch\n",
    "S_min = 10  # Minimum target length, for demonstration purposes\n",
    "\n",
    "input = torch.randn(T, N, C).log_softmax(2).detach().requires_grad_()\n",
    "\n",
    "target = torch.randint(low=1, high=C+1, size=(N, S))\n",
    "input_lengths = torch.full(size=(N,), fill_value=T)\n",
    "target_lengths = torch.randint(low=S_min, high=S, size=(N,))\n",
    "\n",
    "device = torch.device(\"cuda\")\n",
    "\n",
    "input = input.to(device)\n",
    "target = target.to(device)\n",
    "input_lengths = input_lengths.to(device)\n",
    "target_lengths = target_lengths.to(device)\n",
    "\n",
    "loss = ctc_loss(input, target, input_lengths, target_lengths)\n",
    "loss.backward()"
   ]
  },
  {
   "cell_type": "code",
   "execution_count": 36,
   "metadata": {},
   "outputs": [
    {
     "name": "stdout",
     "output_type": "stream",
     "text": [
      "torch.float32\n",
      "torch.int64\n",
      "torch.float32\n",
      "torch.int64\n"
     ]
    }
   ],
   "source": [
    "print(input.dtype)\n",
    "print(target.dtype)\n",
    "print(input_lengths.dtype)\n",
    "print(target_lengths.dtype)"
   ]
  },
  {
   "cell_type": "code",
   "execution_count": 4,
   "metadata": {},
   "outputs": [
    {
     "name": "stdout",
     "output_type": "stream",
     "text": [
      "torch.Size([255, 16, 20])\n"
     ]
    }
   ],
   "source": [
    "print(input.shape)"
   ]
  },
  {
   "cell_type": "code",
   "execution_count": 5,
   "metadata": {},
   "outputs": [
    {
     "name": "stdout",
     "output_type": "stream",
     "text": [
      "torch.Size([16, 30])\n"
     ]
    }
   ],
   "source": [
    "print(target.shape)"
   ]
  },
  {
   "cell_type": "code",
   "execution_count": 6,
   "metadata": {},
   "outputs": [
    {
     "data": {
      "text/plain": [
       "tensor([255., 255., 255., 255., 255., 255., 255., 255., 255., 255., 255., 255.,\n",
       "        255., 255., 255., 255.], device='cuda:0')"
      ]
     },
     "execution_count": 6,
     "metadata": {},
     "output_type": "execute_result"
    }
   ],
   "source": [
    "input_lengths"
   ]
  },
  {
   "cell_type": "code",
   "execution_count": 7,
   "metadata": {},
   "outputs": [
    {
     "data": {
      "text/plain": [
       "tensor([19, 19, 17, 11, 28, 11, 28, 10, 25, 10, 10, 27, 14, 21, 11, 14],\n",
       "       device='cuda:0')"
      ]
     },
     "execution_count": 7,
     "metadata": {},
     "output_type": "execute_result"
    }
   ],
   "source": [
    "target_lengths"
   ]
  },
  {
   "cell_type": "code",
   "execution_count": 8,
   "metadata": {},
   "outputs": [],
   "source": [
    "ctc_loss = nn.CTCLoss().to(device)\n",
    "loss = ctc_loss(input, target, input_lengths, target_lengths)"
   ]
  },
  {
   "cell_type": "code",
   "execution_count": 46,
   "metadata": {},
   "outputs": [
    {
     "data": {
      "text/plain": [
       "'c.h.e.c.k.p.o.i.n.t'"
      ]
     },
     "execution_count": 46,
     "metadata": {},
     "output_type": "execute_result"
    }
   ],
   "source": [
    "import os\n",
    "format(os.curdir.join(\"checkpoint\"))\n"
   ]
  },
  {
   "cell_type": "code",
   "execution_count": 53,
   "metadata": {},
   "outputs": [
    {
     "data": {
      "text/plain": [
       "\".\\\\checkpoint\\\\new_prarams2.pth'\""
      ]
     },
     "execution_count": 53,
     "metadata": {},
     "output_type": "execute_result"
    }
   ],
   "source": [
    "os.path.join(os.curdir,\"checkpoint\",\"new_prarams2.pth'\")"
   ]
  },
  {
   "cell_type": "code",
   "execution_count": 54,
   "metadata": {},
   "outputs": [],
   "source": [
    "index = \"1234567890qwertyuiopasdfghjklzxcvbnm一二三四五六七八九十\"\n",
    "out=\"\"\n",
    "import random\n",
    "for i in range(5000):\n",
    "    out+=index[random.randint(0,len(index)-1)]"
   ]
  },
  {
   "cell_type": "code",
   "execution_count": 55,
   "metadata": {},
   "outputs": [
    {
     "data": {
      "text/plain": [
       "'uf三rmzwgmhk1z七四g5r五5tpf四zm0四ajhi66十1351五jp5二五h四17u53iig6v9xh二96dukg7r九a九u7u7h4z4十9o二zlf六m5r二l1qz3n6kff二四q三53ll七30wdom八7f721yvqvic四tn9lydi七ksj3cg七十aj七九g三z66pgk八v3四6y七m9yfkl五xnmt四g四ffvmg六wca85w八x2zab九36gv七4四j06四二f七w四3z2五f5vjql二0l二jvw7u6zm二j七unfs十一y2四zh9y8icj6sr八七9coh0三0五t六se0十四0九一mc91md1三3oj4vtbl5rmajag二13一1h七3cvie四u九五0g六六h七xvu8十三4九vp十k三8ry三z六qh三18五fxfk八3li6v二q一五7四da7xbgp3v03sa三h56x九ljw6heut2ui65v6dhhdeekblpan三z5三o4x93p5wue二三5y6cyy1六三tlq六vm8sls七a三06edt6zz七vsgu8z六7二5cdiykv16npytqqg1二二a85khad一az2三rkyq7七九九bs4qc九3t一5bwqj4kp3jy154二6irzlg6九1v二8u16pg6mcrui四三9qj1kixxm1五gv8h9t二jjgyd9ey7三00三f四fq9七u九ev二wpb三c6guhhn四ca四e4qmd六一mq3sw3wzb7adn044kwjj79fq一rpdn8e3y4d十k4lcrhfy十0r15十j九f23zipcm七bq7v19十fael五n七五一三o4b六1wp1八swhpepbfeo六0y9os十5i十0sxq96一十j八2八tt九九5m一一七7km七二ikn3三v六八七ak5十0cq91fk3mkpxbi八xuf三五mj7x十g8五8byhfge5c70f1ymtlxz一i五kzfqib83vp1fxusdovl6y一l5一l一okwh九h70一p二7lad八五hllrx十7gbojbneqn6九十8一z十p六24y九gc3pltxd59150四c一n54四九d九u八8fsca三四mgq3vvup三bger7ldr7八二九5wv1c一二mf00b3t四五五6四4e58r2nr30zq十2三九二九a5s七ex二0pc8vzgxswixo7十nva1b5h8gkp六mm三okaj八8sp一h九weh7八九u9tokzw9五a1xr七c92六四fx四5ltr四jw5hxyx0x4w五u一62xtqhm七o二35a七d7r4rqh0九53八十v4x2bk4i1wd5十xx5二0四7r6九h一v二一z三vhj1uvs九xk9b九aami2ybsn六十uebywy2d八九八二on三九二1五yn四k9z412八d0u八三27x0sc九一offhd9cmf5八fb六u3八五jdr3八sm九8七5八三五八l1w八ft七zmo9d九f2二十netv42六fpr7f58五1一三pw9nc五ap0j一t九q五dj九三cj7三三nnm八a九f4m七0fik2tq一q7yxvsk3四wc六wif三四六6bo2px09db5gq三vm三61七g一uk3u四8q五l十ujoa56四68一五一gy六8n7四六7七ry十zjta20otvshwnybhgf九7n七三oq六s03三2a2dip七一一五一六四7hbv四rjv8ew九2六n113720六一n三3bj五gs9no七xidg七79in2zdsbma六三20四yoe八heh1ic7ix二oh一九6k五7三mnfch二w二二yvb1jd五九fpoqv六cof十xgjqj九bi6nv十2a15四97dzffy6oro一lgwrpr五k七7一tn二79iuwj二j二88jhvude0qfz八9zpzp70m3ntmeboaz31p一bwg十nve4g709209p七j2kd8vtt9rn四p4n2h八qazy四三七m三一jy四一6g七6mu十三wl五d八e8yfk八五2apqpe7一9ytwe六九7九rsuel一七1八f六8二1vja二fa六0bxietwmy2t7四o七9七0k8w三n五1三u一q二uj三w5九三ruogsm二oomo二2一cg四0五26y62cb七四dnt0九五csmr6八r0ayaylr四5七urzw六七mpzgxi7八六3五q八b1五93xn49zg八phcz七2q6hnnr五xx一ebne12八k四4b7六s二kv5ibzm一r九l6g十四j75cbyl4八c二z5lzkqnr三7w六zavrre3smvy8qn0七五0ex9s三hk6一btcvyz3p一uzvpt九2zcik八vxhdzi8六pmm5pc六2sv5八六9zg3a28k9九zv四0eg七zt4zg三gz一一tc五k3m十七四五eys九fzs6n六bu二q7六二c五八v8一d461s8u九tl八rcp三0七oq八p06ft二fhupz8七xvy二八di五九zmght6九u5v七p一q7uy9zvd8七7五fq2luxp二e十hinc4wqwcw一fe70p2十5dv八x0四iez56三7w一七pjej0十11b6v1a2zzy六fi37lbwnx6w4c五七bvv1jj一ud0八十m三3ug九z十90五3c9d3七9j五qd五三qq十z七c十tatn十lx九5七tuc六94m九一一4x三w四fdid7dpj八r四ymqunl六s二8w一一i一十r13ojc四be七z四r六69yzm七n613nu八v02十51v三7y八xjbz八62九9jaj63二z一一a二yqr52ixhkqx3rr十k五6uy2t三6一c九十o七1s六gbnj二7ph9二八五9sm一jwza五37yzvy九8jdm三63v八klk8qpbw6ch48w七二ow1rcrzd549七24vu九28f一三yk99六2l三t0dig七w三pq44ivmf1十t3qep8ex3x155八q0四三f六j7四d八5me五a7九nrm6lck7can5rkro六五g6npc0七一ffmcjen8y24rdhqnn六rh十六rfqc十0三a2五ufw1三n九d5四qazl7f9七a2一1二11t一十七01uhdcl七五四ms九3kw86m6o五cu5te8七dk89a二jvssoevi8一fkb2sxli三mr7so三m五zr六e5一pez3cl五3四二5qqwifxv四e5九s八七八二fhn8九39t三九8rlgnr八bey8c七elrxc9lhr31一8十1三三w8l四be1c三adrvpofxez03五九xh三c4k六e6jxs十uvrm二10jee4cd七k十五3y九五npcnqr九l30351八ly十g四btt3三259nfa00g六45tro8八k八七j十xu84103二九hqj二7xu0g0九四二mpvk八um09xomqz13z7p5x52m一六m16ht四y四afbae2eh五nz8u五二6sxp7r六nj五pw二mbk八psruk一k3u05七x二wa8fc十v5九一11bbynz7v四0三rzw五4o六f0四bcp0zan30九ppcfp六y五xoc八q760je十a0s0qhp十六gvwv23八三61一十bvogi4ay五8三ufm6五九q0db5十i0ov三c97xrimblv十ymainloy11q九m三mig四17r五九四七z九i四sw九5十iy4g四h1五八3六二h五2zlyjoja8q0五三44xh九i六u7urdz1un9q9四d七o二lm1f3十u467bxd八g8u八ayvx7六七tx5九gav九s六aqz893n五bjt3dt四77rzhzxay8五二7paem九五6一iwd四w4fmv八nm22八fc3ymi六leg六vdcqer四zz4p五z三vmjuo七d0k3sl1pps七byz9四hq2la十o9d8hr四四dj8a一t五tf一y五l十zl8v四七五3七八s八mdsd五cit5k2utex1tq一nh4cuugwy一八hxc0ioltvg9fymhyeru6pnurgd十31二六七fg六k5五ovctz一hy八2k八5qjq62phb五mat9n五4z1n十三四rleftudz3roz0u一五三j十四5m八gc一29o6十0mcszrf0n7qc735八ofkh四2he八wou三ebldee6j九九ezzq二cfadz一t49q九三ztmxbiwt9hkzn6十五二三vu九bulx54l九四mikg1三七四r5九五fkaojwpx67110bqbu六v6l520q9y八五g四f9九upl五xew3dvh四8n九c七八gzf八jdj1i五v四2o八九4295w七一o八三h4八f7zfvv0zo3九九g二ioi四v4v九sz六v七z九wunimn5十9w46h七3y0gv六k6x二六n三8三六4djna6iq一s十qtede2十t36u七fmw5zs8十hsrpcu十k4ijmnruz1九三6w4pwn3y0z7四bb五zw25a1五y五t九l六7l261三一一0ruf一九h八5zqcur四八zw九5十2k8四0mme二ba3lfbqg9十m八ocjf16ej三dmb一jhfwb5ha八5wkx七cpmk4t9o4ja八rep9nks1z7二九五8a2tz七二l二3f9unc七4w四839j十九8m54tzvkn三3c五yvayeldecw3ypbgum二二十四y8lup三七ka六bml四u一十gv1十rkcrv7h八二3f一十七bez二r9二qgwo9j五ap八i四一五d23wu五kh9cgn五五e一八s9m五1dvjcl5xg九7四5y6eebj三o73jya1vcdlhto4九9x8yx三e4mclhs9hf十0rk7w二m2二二kc17x4九三stw3mf八1fa2wf19j0九v4n3四kmq2n七3ds四f4sr八rw62rvm972五c七77h0mettg六六z十ag六g8xkh四mjk04三ymv0e27q八五8八五zb九j三ga一u六o1fy0ezu二六7九78七n989qgvic5f四ucqww一pqawlhi6l0y0jgb1k7八八xzq七五0zdssb九三13五5六f8c4e二r2tu二u3z十4zj八9x72qq7i九k89mkndbzyg一7六wnj二二jubwx0lcuytw5dxbas十一pq6ppaxdk8四kuy八4gjz9baoe五1g五opg十0o6vomg49八七l一z1jvv六八g一七exow五8qjxegk十九十t五五五7a443h十四80n十q七zx981bvhcvu十9cmi十4l5九rc三二xd44rgfy1三2五n7九mwko5knp9八y三o8t7k0q63e六七dfh5f3o五1a9九uyf27七uuduw七fj8402五j8六0mto二01rb四boh一jmt43td一z6uavudfa二j十wj2zgv十rs十bler五f六o2q七ktf八n九u四d一d6二88kq1my8npv2le二afb2ujir95xy一x2omb5r三etmu8kp2fk三1n5六ga二八sk9csz六g3xtu九g21gppdq五二wzrvrojin八f八tp二csblxe十o1七jw834bem3g三8一2六7dfopax7hkq0e九anes二九l十q74twuy八8sls0gyrz88ui1九cixokrpx8aglp三四lrgw3fd六十八7b六reydt8d八七07十va69fl0五bl3c九i四hwr2l九vuz0ub6pnre一n3cj八cpns4v三c3六qfaxli十5o十ocb73四p五qkq1四八0tf9ufc十wjzu7t5三十pn4bcpfxo9一rdl1八九七bxs99四k九gkstn9k五t25vzrh一2amyuc四c5af6k89y2twcb四i2sy8十八9ci四yf八sbug十七o四n三七4十uvh757四n四8jf二s9一八ls三p2r1lxedv4i一x一h1hg1m十0o4十cg三plcee五'"
      ]
     },
     "execution_count": 55,
     "metadata": {},
     "output_type": "execute_result"
    }
   ],
   "source": [
    "out"
   ]
  },
  {
   "cell_type": "code",
   "execution_count": null,
   "metadata": {},
   "outputs": [],
   "source": []
  }
 ],
 "metadata": {
  "kernelspec": {
   "display_name": "Python 3",
   "language": "python",
   "name": "python3"
  },
  "language_info": {
   "codemirror_mode": {
    "name": "ipython",
    "version": 3
   },
   "file_extension": ".py",
   "mimetype": "text/x-python",
   "name": "python",
   "nbconvert_exporter": "python",
   "pygments_lexer": "ipython3",
   "version": "3.7.1"
  }
 },
 "nbformat": 4,
 "nbformat_minor": 2
}
