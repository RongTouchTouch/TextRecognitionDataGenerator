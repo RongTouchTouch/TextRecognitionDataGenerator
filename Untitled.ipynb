{
 "cells": [
  {
   "cell_type": "code",
   "execution_count": 10,
   "metadata": {},
   "outputs": [],
   "source": [
    "import os\n",
    "import random\n",
    "import pandas as pd\n",
    "import numpy as np\n",
    "import cv2\n",
    "import time\n",
    "\n",
    "from tqdm import tqdm\n",
    "from string_generator import (\n",
    "    create_strings_from_dict,\n",
    "    create_strings_from_file,\n",
    "    create_strings_from_wikipedia,\n",
    "    create_strings_randomly\n",
    ")\n",
    "from data_generator import FakeTextDataGenerator\n",
    "from multiprocessing import Pool"
   ]
  },
  {
   "cell_type": "code",
   "execution_count": 11,
   "metadata": {},
   "outputs": [],
   "source": [
    "def margins(margin):\n",
    "    margins = margin.split(',')\n",
    "    if len(margins) == 1:\n",
    "        return [margins[0]] * 4\n",
    "    return [int(m) for m in margins]\n",
    "\n",
    "\n",
    "def load_dict(lang):\n",
    "    \"\"\"\n",
    "    read dictionary and return all words in it\n",
    "    :return:\n",
    "    \"\"\"\n",
    "    lang_dict = []\n",
    "    with open(os.path.join('dicts', lang + '.txt'),'r',encoding='utf8',errors='ignore') as d:\n",
    "        lang_dict = d.readlines()\n",
    "    return lang_dict\n",
    "\n",
    "\n",
    "def load_files(lang):\n",
    "    \"\"\"\n",
    "    read files and return file path to string_generator\n",
    "    :return:\n",
    "    \"\"\"\n",
    "    if lang == 'cn':\n",
    "        return [os.path.join('files/cn', file) for file in os.listdir('files/cn')]\n",
    "    else:\n",
    "        return [os.path.join('files/latin', file) for file in os.listdir('files/latin')]\n",
    "\n",
    "\n",
    "def load_fonts(lang):\n",
    "    \"\"\"\n",
    "    read .ttf files and return the fonts\n",
    "    P.S. only Truetype is allowed\n",
    "    :return:\n",
    "    \"\"\"\n",
    "    if lang == 'cn':\n",
    "        return [os.path.join('fonts/cn', font) for font in os.listdir('fonts/cn')]\n",
    "    else:\n",
    "        return [os.path.join('fonts/latin', font) for font in os.listdir('fonts/latin')]"
   ]
  },
  {
   "cell_type": "code",
   "execution_count": 12,
   "metadata": {},
   "outputs": [],
   "source": [
    "def gen_text_img(num, use_file, text_length, font_size, font_id, space_width, background, text_color,\n",
    "                 blur, random_blur, distorsion, skew_angle, random_skew, thread_count):\n",
    "    \"\"\"\n",
    "\n",
    "    :param num:\n",
    "    :param use_file:\n",
    "    :param text_length:\n",
    "    :param font_size:\n",
    "    :param font_id:\n",
    "    :param space_width:\n",
    "    :param background:\n",
    "    :param text_color:\n",
    "    :param blur:\n",
    "    :param distorsion:\n",
    "    :param skew_angle:\n",
    "    :param thread_count:\n",
    "    :return:\n",
    "    \"\"\"\n",
    "\n",
    "    # Constant\n",
    "    output_dir = 'out/'\n",
    "    extension = 'jpg'\n",
    "    distorsion_orientation = 0\n",
    "    handwritten = False\n",
    "    name_format = 0\n",
    "    width = -1\n",
    "    alignment = 1\n",
    "    orientation = 0\n",
    "    margins = (5, 5, 5, 5)\n",
    "    fit = False\n",
    "\n",
    "    language = 'cn'\n",
    "    lang_dict = load_dict(language)\n",
    "\n",
    "    fonts = load_fonts(language)\n",
    "\n",
    "    if use_file:\n",
    "        file_names = load_files(language)\n",
    "        strings = create_strings_from_file(file_names, text_length, num)\n",
    "    else:\n",
    "        # to be implemented\n",
    "        strings = create_strings_from_dict(text_length, num, lang_dict)\n",
    "\n",
    "    p = Pool(thread_count)\n",
    "    result = []\n",
    "    for _, img in p.imap_unordered(\n",
    "            FakeTextDataGenerator.generate_from_tuple,\n",
    "            zip(\n",
    "                [i for i in range(0, num)],\n",
    "                strings,\n",
    "                [fonts[font_id]] * num if font_id else [fonts[random.randrange(0, len(fonts))] for _ in range(0, num)],\n",
    "                [output_dir] * num,\n",
    "                [font_size] * num if font_size else [random.randrange(24, 40) for _ in range(0, num)],\n",
    "                [extension] * num,\n",
    "                [skew_angle] * num,\n",
    "                [random_skew] * num,\n",
    "                [blur] * num,\n",
    "                [random_blur] * num,\n",
    "                [background] * num if background>=0 else [random.randint(0, 2) for _ in range(0, num)],\n",
    "                [distorsion] * num if distorsion>=0 else [random.randint(0, 2) for _ in range(0, num)],\n",
    "                [distorsion_orientation] * num,\n",
    "                [handwritten] * num,\n",
    "                [name_format] * num,\n",
    "                [width] * num,\n",
    "                [alignment] * num,\n",
    "                [text_color] * num,\n",
    "                [orientation] * num,\n",
    "                [space_width] * num,\n",
    "                [margins] * num,\n",
    "                [fit] * num\n",
    "            )\n",
    "    ):\n",
    "        result.append((_, img))\n",
    "\n",
    "    p.terminate()\n",
    "    target = np.concatenate([img for _, img in result], axis=1)\n",
    "    df = pd.concat([meta for meta, _ in result])\n",
    "    df = df.reset_index(drop=True)\n",
    "\n",
    "    return df, target\n"
   ]
  },
  {
   "cell_type": "code",
   "execution_count": 13,
   "metadata": {},
   "outputs": [
    {
     "ename": "TypeError",
     "evalue": "generate() missing 1 required positional argument: 'fit'",
     "output_type": "error",
     "traceback": [
      "\u001b[0;31m---------------------------------------------------------------------------\u001b[0m",
      "\u001b[0;31mRemoteTraceback\u001b[0m                           Traceback (most recent call last)",
      "\u001b[0;31mRemoteTraceback\u001b[0m: \n\"\"\"\nTraceback (most recent call last):\n  File \"/opt/conda/lib/python3.6/multiprocessing/pool.py\", line 119, in worker\n    result = (True, func(*args, **kwds))\n  File \"/home/jovyan/TextRecognitionDataGenerator/data_generator.py\", line 20, in generate_from_tuple\n    return cls.generate(*t)\nTypeError: generate() missing 1 required positional argument: 'fit'\n\"\"\"",
      "\nThe above exception was the direct cause of the following exception:\n",
      "\u001b[0;31mTypeError\u001b[0m                                 Traceback (most recent call last)",
      "\u001b[0;32m<ipython-input-13-929504d81142>\u001b[0m in \u001b[0;36m<module>\u001b[0;34m()\u001b[0m\n\u001b[1;32m     14\u001b[0m \u001b[0mstart_time\u001b[0m \u001b[0;34m=\u001b[0m \u001b[0mtime\u001b[0m\u001b[0;34m.\u001b[0m\u001b[0mtime\u001b[0m\u001b[0;34m(\u001b[0m\u001b[0;34m)\u001b[0m\u001b[0;34m\u001b[0m\u001b[0m\n\u001b[1;32m     15\u001b[0m df, target = gen_text_img(num, use_file, text_length, font_size, font_id, space_width, background, text_color,\n\u001b[0;32m---> 16\u001b[0;31m                               blur, distorsion, skew_angle, random_skew, thread_count)\n\u001b[0m\u001b[1;32m     17\u001b[0m \u001b[0mcv2\u001b[0m\u001b[0;34m.\u001b[0m\u001b[0mimwrite\u001b[0m\u001b[0;34m(\u001b[0m\u001b[0mos\u001b[0m\u001b[0;34m.\u001b[0m\u001b[0mpath\u001b[0m\u001b[0;34m.\u001b[0m\u001b[0mjoin\u001b[0m\u001b[0;34m(\u001b[0m\u001b[0;34m'out/'\u001b[0m \u001b[0;34m+\u001b[0m \u001b[0;34m'target.jpg'\u001b[0m\u001b[0;34m)\u001b[0m\u001b[0;34m,\u001b[0m \u001b[0mtarget\u001b[0m\u001b[0;34m)\u001b[0m\u001b[0;34m\u001b[0m\u001b[0m\n\u001b[1;32m     18\u001b[0m \u001b[0mend_time\u001b[0m \u001b[0;34m=\u001b[0m \u001b[0mtime\u001b[0m\u001b[0;34m.\u001b[0m\u001b[0mtime\u001b[0m\u001b[0;34m(\u001b[0m\u001b[0;34m)\u001b[0m\u001b[0;34m\u001b[0m\u001b[0m\n",
      "\u001b[0;32m<ipython-input-12-920ab3b5d648>\u001b[0m in \u001b[0;36mgen_text_img\u001b[0;34m(num, use_file, text_length, font_size, font_id, space_width, background, text_color, blur, distorsion, skew_angle, random_skew, thread_count)\u001b[0m\n\u001b[1;32m     69\u001b[0m                 \u001b[0;34m[\u001b[0m\u001b[0mspace_width\u001b[0m\u001b[0;34m]\u001b[0m \u001b[0;34m*\u001b[0m \u001b[0mnum\u001b[0m\u001b[0;34m,\u001b[0m\u001b[0;34m\u001b[0m\u001b[0m\n\u001b[1;32m     70\u001b[0m                 \u001b[0;34m[\u001b[0m\u001b[0mmargins\u001b[0m\u001b[0;34m]\u001b[0m \u001b[0;34m*\u001b[0m \u001b[0mnum\u001b[0m\u001b[0;34m,\u001b[0m\u001b[0;34m\u001b[0m\u001b[0m\n\u001b[0;32m---> 71\u001b[0;31m                 \u001b[0;34m[\u001b[0m\u001b[0mfit\u001b[0m\u001b[0;34m]\u001b[0m \u001b[0;34m*\u001b[0m \u001b[0mnum\u001b[0m\u001b[0;34m\u001b[0m\u001b[0m\n\u001b[0m\u001b[1;32m     72\u001b[0m             )\n\u001b[1;32m     73\u001b[0m     ):\n",
      "\u001b[0;32m/opt/conda/lib/python3.6/multiprocessing/pool.py\u001b[0m in \u001b[0;36mnext\u001b[0;34m(self, timeout)\u001b[0m\n\u001b[1;32m    733\u001b[0m         \u001b[0;32mif\u001b[0m \u001b[0msuccess\u001b[0m\u001b[0;34m:\u001b[0m\u001b[0;34m\u001b[0m\u001b[0m\n\u001b[1;32m    734\u001b[0m             \u001b[0;32mreturn\u001b[0m \u001b[0mvalue\u001b[0m\u001b[0;34m\u001b[0m\u001b[0m\n\u001b[0;32m--> 735\u001b[0;31m         \u001b[0;32mraise\u001b[0m \u001b[0mvalue\u001b[0m\u001b[0;34m\u001b[0m\u001b[0m\n\u001b[0m\u001b[1;32m    736\u001b[0m \u001b[0;34m\u001b[0m\u001b[0m\n\u001b[1;32m    737\u001b[0m     \u001b[0m__next__\u001b[0m \u001b[0;34m=\u001b[0m \u001b[0mnext\u001b[0m                    \u001b[0;31m# XXX\u001b[0m\u001b[0;34m\u001b[0m\u001b[0m\n",
      "\u001b[0;31mTypeError\u001b[0m: generate() missing 1 required positional argument: 'fit'"
     ]
    }
   ],
   "source": [
    "num = 10\n",
    "use_file = 1\n",
    "text_length = 10\n",
    "font_size = 0\n",
    "font_id = 1\n",
    "space_width = 1\n",
    "background = -1\n",
    "text_color = '#282828'\n",
    "blur = 0\n",
    "distorsion = 1\n",
    "skew_angle = 3\n",
    "random_skew = True\n",
    "thread_count = 8\n",
    "start_time = time.time()\n",
    "df, target = gen_text_img(num, use_file, text_length, font_size, font_id, space_width, background, text_color,\n",
    "                              blur, distorsion, skew_angle, random_skew, thread_count)\n",
    "cv2.imwrite(os.path.join('out/' + 'target.jpg'), target)\n",
    "end_time = time.time()\n",
    "print('time for synthesize 1000 image:', end_time - start_time)\n",
    "print(df.info())    "
   ]
  },
  {
   "cell_type": "code",
   "execution_count": 14,
   "metadata": {},
   "outputs": [
    {
     "ename": "NameError",
     "evalue": "name 'df' is not defined",
     "output_type": "error",
     "traceback": [
      "\u001b[0;31m---------------------------------------------------------------------------\u001b[0m",
      "\u001b[0;31mNameError\u001b[0m                                 Traceback (most recent call last)",
      "\u001b[0;32m<ipython-input-14-1fa8cf38ce5c>\u001b[0m in \u001b[0;36m<module>\u001b[0;34m()\u001b[0m\n\u001b[0;32m----> 1\u001b[0;31m \u001b[0mdisplay\u001b[0m\u001b[0;34m(\u001b[0m\u001b[0mdf\u001b[0m\u001b[0;34m.\u001b[0m\u001b[0mhead\u001b[0m\u001b[0;34m(\u001b[0m\u001b[0;36m5\u001b[0m\u001b[0;34m)\u001b[0m\u001b[0;34m)\u001b[0m\u001b[0;34m\u001b[0m\u001b[0m\n\u001b[0m\u001b[1;32m      2\u001b[0m \u001b[0mprint\u001b[0m\u001b[0;34m(\u001b[0m\u001b[0mtarget\u001b[0m\u001b[0;34m.\u001b[0m\u001b[0mshape\u001b[0m\u001b[0;34m)\u001b[0m\u001b[0;34m\u001b[0m\u001b[0m\n",
      "\u001b[0;31mNameError\u001b[0m: name 'df' is not defined"
     ]
    }
   ],
   "source": [
    "display(df.head(5))\n",
    "print(target.shape)"
   ]
  },
  {
   "cell_type": "code",
   "execution_count": null,
   "metadata": {},
   "outputs": [],
   "source": []
  },
  {
   "cell_type": "code",
   "execution_count": 15,
   "metadata": {},
   "outputs": [
    {
     "ename": "NameError",
     "evalue": "name 'df' is not defined",
     "output_type": "error",
     "traceback": [
      "\u001b[0;31m---------------------------------------------------------------------------\u001b[0m",
      "\u001b[0;31mNameError\u001b[0m                                 Traceback (most recent call last)",
      "\u001b[0;32m<ipython-input-15-beef7e0da586>\u001b[0m in \u001b[0;36m<module>\u001b[0;34m()\u001b[0m\n\u001b[1;32m      1\u001b[0m \u001b[0;31m# df['text'].map(len).sum()\u001b[0m\u001b[0;34m\u001b[0m\u001b[0;34m\u001b[0m\u001b[0m\n\u001b[0;32m----> 2\u001b[0;31m \u001b[0mdf\u001b[0m\u001b[0;34m[\u001b[0m\u001b[0;34m'img_shape'\u001b[0m\u001b[0;34m]\u001b[0m\u001b[0;34m.\u001b[0m\u001b[0mastype\u001b[0m\u001b[0;34m(\u001b[0m\u001b[0mnp\u001b[0m\u001b[0;34m.\u001b[0m\u001b[0mint\u001b[0m\u001b[0;34m)\u001b[0m\u001b[0;34m.\u001b[0m\u001b[0msum\u001b[0m\u001b[0;34m(\u001b[0m\u001b[0;34m)\u001b[0m\u001b[0;34m\u001b[0m\u001b[0m\n\u001b[0m",
      "\u001b[0;31mNameError\u001b[0m: name 'df' is not defined"
     ]
    }
   ],
   "source": [
    "# df['text'].map(len).sum()\n",
    "df['img_shape'].astype(np.int).sum()"
   ]
  },
  {
   "cell_type": "code",
   "execution_count": 16,
   "metadata": {},
   "outputs": [
    {
     "ename": "NameError",
     "evalue": "name 'target' is not defined",
     "output_type": "error",
     "traceback": [
      "\u001b[0;31m---------------------------------------------------------------------------\u001b[0m",
      "\u001b[0;31mNameError\u001b[0m                                 Traceback (most recent call last)",
      "\u001b[0;32m<ipython-input-16-5c277c55bad6>\u001b[0m in \u001b[0;36m<module>\u001b[0;34m()\u001b[0m\n\u001b[1;32m      1\u001b[0m \u001b[0;32mimport\u001b[0m \u001b[0mmatplotlib\u001b[0m\u001b[0;34m.\u001b[0m\u001b[0mpyplot\u001b[0m \u001b[0;32mas\u001b[0m \u001b[0mplt\u001b[0m\u001b[0;34m\u001b[0m\u001b[0m\n\u001b[0;32m----> 2\u001b[0;31m \u001b[0mplt\u001b[0m\u001b[0;34m.\u001b[0m\u001b[0mimshow\u001b[0m\u001b[0;34m(\u001b[0m\u001b[0mtarget\u001b[0m\u001b[0;34m[\u001b[0m\u001b[0;34m:\u001b[0m\u001b[0;34m,\u001b[0m\u001b[0;36m208\u001b[0m\u001b[0;34m:\u001b[0m\u001b[0;34m(\u001b[0m\u001b[0;36m200\u001b[0m\u001b[0;34m+\u001b[0m\u001b[0;36m208\u001b[0m\u001b[0;34m)\u001b[0m\u001b[0;34m,\u001b[0m\u001b[0;34m:\u001b[0m\u001b[0;34m]\u001b[0m\u001b[0;34m)\u001b[0m\u001b[0;34m\u001b[0m\u001b[0m\n\u001b[0m",
      "\u001b[0;31mNameError\u001b[0m: name 'target' is not defined"
     ]
    }
   ],
   "source": [
    "import matplotlib.pyplot as plt\n",
    "plt.imshow(target[:,208:(200+208),:])"
   ]
  },
  {
   "cell_type": "code",
   "execution_count": 8,
   "metadata": {},
   "outputs": [
    {
     "data": {
      "text/plain": [
       "<matplotlib.image.AxesImage at 0x7fce8c892da0>"
      ]
     },
     "execution_count": 8,
     "metadata": {},
     "output_type": "execute_result"
    },
    {
     "data": {
      "image/png": "[encoded data removed]",
      "text/plain": [
       "<matplotlib.figure.Figure at 0x7fce8f2b1748>"
      ]
     },
     "metadata": {},
     "output_type": "display_data"
    }
   ],
   "source": [
    "plt.imshow(target[:,(217+208):(217+208+204),:])"
   ]
  },
  {
   "cell_type": "code",
   "execution_count": 9,
   "metadata": {},
   "outputs": [
    {
     "name": "stdout",
     "output_type": "stream",
     "text": [
      "-2\n"
     ]
    }
   ],
   "source": [
    "import random\n",
    "print(random.randint(-3,3))"
   ]
  },
  {
   "cell_type": "code",
   "execution_count": null,
   "metadata": {},
   "outputs": [],
   "source": []
  }
 ],
 "metadata": {
  "kernelspec": {
   "display_name": "Python 3",
   "language": "python",
   "name": "python3"
  },
  "language_info": {
   "codemirror_mode": {
    "name": "ipython",
    "version": 3
   },
   "file_extension": ".py",
   "mimetype": "text/x-python",
   "name": "python",
   "nbconvert_exporter": "python",
   "pygments_lexer": "ipython3",
   "version": "3.6.3"
  }
 },
 "nbformat": 4,
 "nbformat_minor": 2
}
