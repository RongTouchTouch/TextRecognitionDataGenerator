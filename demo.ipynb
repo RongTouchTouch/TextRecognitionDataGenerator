{
 "cells": [
  {
   "cell_type": "code",
   "execution_count": 2,
   "metadata": {},
   "outputs": [],
   "source": [
    "import matplotlib.pyplot as plt\n",
    "\n",
    "%matplotlib inline\n",
    "\n",
    "import torch\n",
    "import torchvision.transforms as transforms\n",
    "from models.crnn import init_network\n",
    "from datasets.datahelpers import default_loader\n",
    "from utils.converter import LabelConverter"
   ]
  },
  {
   "cell_type": "code",
   "execution_count": 3,
   "metadata": {},
   "outputs": [],
   "source": [
    "# load alphabet from file\n",
    "alphabet = ''\n",
    "with open('alphabet/alphabet_decode_5990.txt', mode='r', encoding='utf-8') as f:\n",
    "    for line in f.readlines():\n",
    "        alphabet += line.strip()"
   ]
  },
  {
   "cell_type": "code",
   "execution_count": 60,
   "metadata": {},
   "outputs": [
    {
     "name": "stdout",
     "output_type": "stream",
     "text": [
      "image name: out/target.jpg\n"
     ]
    }
   ],
   "source": [
    "img_name = 'out/target.jpg'\n",
    "device = torch.device(\"cpu\")\n",
    "model_path = 'pretrained/params_6.pth'\n",
    "# densenet121_pretrained.pth\n",
    "model_params = {}\n",
    "model_params['architecture'] = \"densenet121\"\n",
    "model_params['num_classes'] = len(alphabet) + 1\n",
    "model_params['mean'] = (0.5,)\n",
    "model_params['std'] = (0.5,)\n",
    "model = init_network(model_params)\n",
    "model = model.to(device)\n",
    "\n",
    "# load checkpoint\n",
    "checkpoint = torch.load(model_path, map_location='cpu')\n",
    "model.load_state_dict(checkpoint)\n",
    "\n",
    "converter = LabelConverter(alphabet, ignore_case=False)\n",
    "\n",
    "transform = transforms.Compose([\n",
    "#     transforms.Resize((32, 280)),\n",
    "    transforms.ToTensor(),\n",
    "#     transforms.Normalize(mean=model.meta['mean'], std=model.meta['std']),\n",
    "])\n",
    "\n",
    "print('image name: {}'.format(img_name))\n",
    "img = default_loader(img_name)\n",
    "\n",
    "model_path2 = 'pretrained/densenet121_pretrained.pth'\n",
    "# \n",
    "model_params2 = {}\n",
    "model_params2['architecture'] = \"densenet121\"\n",
    "model_params2['num_classes'] = len(alphabet) + 1\n",
    "model_params2['mean'] = (0.5,)\n",
    "model_params2['std'] = (0.5,)\n",
    "model_2 = init_network(model_params2)\n",
    "model_2 = model_2.to(device)\n",
    "\n",
    "# load checkpoint\n",
    "checkpoint2 = torch.load(model_path2, map_location='cpu')\n",
    "model_2.load_state_dict(checkpoint2)\n"
   ]
  },
  {
   "cell_type": "code",
   "execution_count": 61,
   "metadata": {},
   "outputs": [
    {
     "data": {
      "text/plain": [
       "torch.Size([32, 237, 1])"
      ]
     },
     "execution_count": 61,
     "metadata": {},
     "output_type": "execute_result"
    }
   ],
   "source": [
    "import numpy as np\n",
    "# plt.imshow(img)\n",
    "img = img.convert(\"L\")\n",
    "img = np.asarray(img)\n",
    "img = torch.Tensor(img).unsqueeze(0)\n",
    "# img = img.\n",
    "img = img.permute(1,2,0)\n",
    "img.shape"
   ]
  },
  {
   "cell_type": "code",
   "execution_count": 6,
   "metadata": {},
   "outputs": [],
   "source": [
    "# transform\n",
    "img = transform(img)\n",
    "img = img.unsqueeze(0)\n",
    "img = img.to(device)"
   ]
  },
  {
   "cell_type": "code",
   "execution_count": 7,
   "metadata": {},
   "outputs": [
    {
     "name": "stdout",
     "output_type": "stream",
     "text": [
      "pred: ----二--三-映---互-宗--化--N--九--十-\n",
      "pred strings: 二三映互宗化N九十\n",
      "pred2: -一--幺--三-惦---互-六--化--八--九--十-\n",
      "pred2 strings: 一幺三惦互六化八九十\n"
     ]
    }
   ],
   "source": [
    "with torch.no_grad():\n",
    "    log_probs = model(img)\n",
    "    preds_strs = converter.best_path_decode(log_probs, strings=True).decode('utf-8')\n",
    "    preds = converter.best_path_decode(log_probs, raw=True).decode('utf-8')\n",
    "    print('pred: {}'.format(preds))\n",
    "    print('pred strings: {}'.format(preds_strs))\n",
    "\n",
    "    log_probs2 = model_2(img)\n",
    "    preds_strs2 = converter.best_path_decode(log_probs2, strings=True).decode('utf-8')\n",
    "    preds2 = converter.best_path_decode(log_probs2, raw=True).decode('utf-8')\n",
    "\n",
    "    print('pred2: {}'.format(preds2))\n",
    "    print('pred2 strings: {}'.format(preds_strs2))"
   ]
  },
  {
   "cell_type": "code",
   "execution_count": 8,
   "metadata": {},
   "outputs": [
    {
     "ename": "AttributeError",
     "evalue": "'Tensor' object has no attribute 'convert'",
     "output_type": "error",
     "traceback": [
      "\u001b[0;31m---------------------------------------------------------------------------\u001b[0m",
      "\u001b[0;31mAttributeError\u001b[0m                            Traceback (most recent call last)",
      "\u001b[0;32m<ipython-input-8-b2f5cfd5e4b0>\u001b[0m in \u001b[0;36m<module>\u001b[0;34m()\u001b[0m\n\u001b[0;32m----> 1\u001b[0;31m \u001b[0mimg\u001b[0m \u001b[0;34m=\u001b[0m \u001b[0mimg\u001b[0m\u001b[0;34m.\u001b[0m\u001b[0mconvert\u001b[0m\u001b[0;34m(\u001b[0m\u001b[0;34m\"L\"\u001b[0m\u001b[0;34m)\u001b[0m\u001b[0;34m\u001b[0m\u001b[0m\n\u001b[0m",
      "\u001b[0;31mAttributeError\u001b[0m: 'Tensor' object has no attribute 'convert'"
     ]
    }
   ],
   "source": []
  },
  {
   "cell_type": "code",
   "execution_count": 4,
   "metadata": {},
   "outputs": [],
   "source": [
    "import torch\n",
    "a = torch.Tensor([[0,1],[2,3]])"
   ]
  },
  {
   "cell_type": "code",
   "execution_count": 5,
   "metadata": {},
   "outputs": [
    {
     "data": {
      "text/plain": [
       "tensor([[0., 2.],\n",
       "        [1., 3.]])"
      ]
     },
     "execution_count": 5,
     "metadata": {},
     "output_type": "execute_result"
    }
   ],
   "source": [
    "a.permute(1,0) "
   ]
  },
  {
   "cell_type": "code",
   "execution_count": null,
   "metadata": {},
   "outputs": [],
   "source": []
  }
 ],
 "metadata": {
  "kernelspec": {
   "display_name": "Python 3",
   "language": "python",
   "name": "python3"
  },
  "language_info": {
   "codemirror_mode": {
    "name": "ipython",
    "version": 3
   },
   "file_extension": ".py",
   "mimetype": "text/x-python",
   "name": "python",
   "nbconvert_exporter": "python",
   "pygments_lexer": "ipython3",
   "version": "3.6.3"
  }
 },
 "nbformat": 4,
 "nbformat_minor": 2
}
