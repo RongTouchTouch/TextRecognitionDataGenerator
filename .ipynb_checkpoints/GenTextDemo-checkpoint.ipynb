{
 "cells": [
  {
   "cell_type": "code",
   "execution_count": 1,
   "metadata": {},
   "outputs": [],
   "source": [
    "import os\n",
    "import random\n",
    "import pandas as pd\n",
    "import numpy as np\n",
    "import cv2\n",
    "import time\n",
    "import threading\n",
    "\n",
    "from tqdm import tqdm\n",
    "from string_generator import (\n",
    "    create_strings_from_dict,\n",
    "    create_strings_from_file,\n",
    "    create_strings_from_file_random,\n",
    "    create_strings_from_wikipedia,\n",
    "    create_strings_randomly\n",
    ")\n",
    "from data_generator import FakeTextDataGenerator\n",
    "from multiprocessing import Pool"
   ]
  },
  {
   "cell_type": "code",
   "execution_count": 2,
   "metadata": {},
   "outputs": [],
   "source": [
    "def margins(margin):\n",
    "    margins = margin.split(',')\n",
    "    if len(margins) == 1:\n",
    "        return [margins[0]] * 4\n",
    "    return [int(m) for m in margins]\n",
    "\n",
    "\n",
    "def load_dict(lang):\n",
    "    \"\"\"\n",
    "    read dictionary and return all words in it\n",
    "    :return:\n",
    "    \"\"\"\n",
    "    lang_dict = []\n",
    "    with open(os.path.join('dicts', lang + '.txt'),'r',encoding='utf8',errors='ignore') as d:\n",
    "        lang_dict = d.readlines()\n",
    "    return lang_dict\n",
    "\n",
    "\n",
    "def load_files(lang):\n",
    "    \"\"\"\n",
    "    read files and return file path to string_generator\n",
    "    :return:\n",
    "    \"\"\"\n",
    "    if lang == 'cn':\n",
    "        return [os.path.join('files/cn', file) for file in os.listdir('files/cn')]\n",
    "    else:\n",
    "        return [os.path.join('files/latin', file) for file in os.listdir('files/latin')]\n",
    "\n",
    "\n",
    "def load_fonts(lang):\n",
    "    \"\"\"\n",
    "    read .ttf files and return the fonts\n",
    "    P.S. only Truetype is allowed\n",
    "    :return:\n",
    "    \"\"\"\n",
    "    if lang == 'cn':\n",
    "        return [os.path.join('fonts/cn', font) for font in os.listdir('fonts/cn')]\n",
    "    else:\n",
    "        return [os.path.join('fonts/latin', font) for font in os.listdir('fonts/latin')]"
   ]
  },
  {
   "cell_type": "code",
   "execution_count": 3,
   "metadata": {},
   "outputs": [],
   "source": [
    "def gen_text_img(num, use_file, text_length, font_size, font_id, space_width, background, text_color,\n",
    "                 blur, random_blur, distorsion, skew_angle, random_skew, thread_count):\n",
    "    \"\"\"\n",
    "\n",
    "    :param num:\n",
    "    :param use_file:\n",
    "    :param text_length:\n",
    "    :param font_size:\n",
    "    :param font_id:\n",
    "    :param space_width:\n",
    "    :param background:\n",
    "    :param text_color:\n",
    "    :param blur:\n",
    "    :param distorsion:\n",
    "    :param skew_angle:\n",
    "    :param thread_count:\n",
    "    :return:\n",
    "    \"\"\"\n",
    "\n",
    "    # Constant\n",
    "    output_dir = 'out/'\n",
    "    extension = 'jpg'\n",
    "    distorsion_orientation = 0\n",
    "    handwritten = False\n",
    "    name_format = 0\n",
    "    width = -1\n",
    "    alignment = 1\n",
    "    orientation = 0\n",
    "    margins = (5, 5, 5, 5)\n",
    "    fit = False\n",
    "\n",
    "    language = 'cn'\n",
    "    lang_dict = load_dict(language)\n",
    "\n",
    "    fonts = load_fonts(language)\n",
    "\n",
    "    if use_file:\n",
    "        file_names = load_files(language)\n",
    "        if text_length==-1:\n",
    "            strings = create_strings_from_file_random(file_names, num)\n",
    "        else:\n",
    "            strings = create_strings_from_file(file_names, text_length, num)\n",
    "    else:\n",
    "        # to be implemented\n",
    "        strings = create_strings_from_dict(text_length, num, lang_dict)\n",
    "\n",
    "    p = Pool(thread_count)\n",
    "    mutex = threading.Lock()\n",
    "    result = []\n",
    "    for _, img in p.imap_unordered(\n",
    "            FakeTextDataGenerator.generate_from_tuple,\n",
    "            zip(\n",
    "                [i for i in range(0, num)],\n",
    "                strings,\n",
    "                [fonts[font_id]] * num if font_id else [fonts[random.randrange(0, len(fonts))] for _ in range(0, num)],\n",
    "                [output_dir] * num,\n",
    "                [font_size] * num if font_size else [random.randrange(28, 36) for _ in range(0, num)],\n",
    "                [extension] * num,\n",
    "                [skew_angle] * num,\n",
    "                [random_skew] * num,\n",
    "                [blur] * num,\n",
    "                [random_blur] * num,\n",
    "                [background] * num if background>=0 else [random.randint(0, 2) for _ in range(0, num)],\n",
    "                [distorsion] * num if distorsion>=0 else [random.randint(0, 2) for _ in range(0, num)],\n",
    "                [distorsion_orientation] * num,\n",
    "                [handwritten] * num,\n",
    "                [name_format] * num,\n",
    "                [width] * num,\n",
    "                [alignment] * num,\n",
    "                [text_color] * num,\n",
    "                [orientation] * num,\n",
    "                [space_width] * num,\n",
    "                [margins] * num,\n",
    "                [fit] * num\n",
    "            )\n",
    "    ):\n",
    "        if mutex.acquire(1):\n",
    "            result.append((_, img))\n",
    "            mutex.release()\n",
    "\n",
    "    p.terminate()\n",
    "    final_image = np.concatenate([img for _, img in result], axis=1)\n",
    "    df = pd.concat([meta for meta, _ in result])\n",
    "    df = df.reset_index(drop=True)\n",
    "\n",
    "    return df, final_image"
   ]
  },
  {
   "cell_type": "code",
   "execution_count": 4,
   "metadata": {},
   "outputs": [
    {
     "name": "stdout",
     "output_type": "stream",
     "text": [
      "time for synthesize 1000 image: 0.6951460838317871\n",
      "  index          text text_length img_shape font_size  font_id skew_angle  \\\n",
      "0     1        《格林童话》           6        98        30  FZKaiTi          1   \n",
      "1     3  他们都是德国民间文学搜集          12       283        35  FZKaiTi          0   \n",
      "2     4          青蛙王子           4        79        33  FZKaiTi          0   \n",
      "3     0    我你我我我他他他我你          10       194        30  FZKaiTi          1   \n",
      "4     8  \"啊！原来是你呀，游泳健          12       257        31  FZKaiTi          0   \n",
      "5     6    国王的宫殿附近，有一          10       166        29  FZKaiTi          0   \n",
      "6     9     \"好啦，不要难过，           9       159        34  FZKaiTi          0   \n",
      "7     2     格林兄弟，雅科布·           9       156        31  FZKaiTi          0   \n",
      "8     7    不巧的是，有一次，小          10       200        35  FZKaiTi          1   \n",
      "9     5    在遥远的古代，人们心          10       160        34  FZKaiTi         -1   \n",
      "\n",
      "  blur distorsion_type background_type  \n",
      "0    0       Sine wave        Guassian  \n",
      "1    0            None        Guassian  \n",
      "2    0       Sine wave     Plain white  \n",
      "3    0            None        Guassian  \n",
      "4    0            None        Guassian  \n",
      "5    0       Sine wave     Plain white  \n",
      "6    0       Sine wave        Guassian  \n",
      "7    0     Cosine wave    Quasicrystal  \n",
      "8    0            None    Quasicrystal  \n",
      "9    0       Sine wave    Quasicrystal  \n"
     ]
    }
   ],
   "source": [
    "num = 10\n",
    "use_file = 1\n",
    "text_length = -1\n",
    "font_size = 0\n",
    "font_id = 1\n",
    "space_width = 1\n",
    "text_color = '#282828'\n",
    "thread_count = 8\n",
    "\n",
    "# skew & blur \n",
    "\"\"\"\n",
    "    If random_xxx is set True, the following variable decides the range.\n",
    "    If random_xxx is set True, the following variable decides the constant.\n",
    "    The variable should be set in NON-NEGATIVE INTEGER.\n",
    "    skew_angle is better not be greater than 3.\n",
    "    blur is better not be greater than 2.   \n",
    "\"\"\"\n",
    "random_skew = True\n",
    "skew_angle = 1\n",
    "random_blur = True\n",
    "blur = 0\n",
    "\n",
    "#distorsion & background \n",
    "\"\"\"\n",
    "    distorsion: 0: None (Default), 1: Sine wave, 2: Cosine wave, -1: Random\n",
    "    background: 0: Gaussian Noise, 1: Plain white, 2: Quasicrystal, -1:Random\n",
    "\"\"\"\n",
    "distorsion = -1\n",
    "background = -1\n",
    "\n",
    "start_time = time.time()\n",
    "df, target = gen_text_img(num, use_file, text_length, font_size, font_id, space_width, background, text_color,\n",
    "                          blur,random_blur, distorsion, skew_angle, random_skew, thread_count)\n",
    "cv2.imwrite(os.path.join('out/' + 'target.jpg'), target)\n",
    "end_time = time.time()\n",
    "print('time for synthesize 1000 image:', end_time - start_time)\n",
    "print(df)\n"
   ]
  },
  {
   "cell_type": "code",
   "execution_count": 5,
   "metadata": {},
   "outputs": [
    {
     "data": {
      "text/html": [
       "<div>\n",
       "<table border=\"1\" class=\"dataframe\">\n",
       "  <thead>\n",
       "    <tr style=\"text-align: right;\">\n",
       "      <th></th>\n",
       "      <th>index</th>\n",
       "      <th>text</th>\n",
       "      <th>text_length</th>\n",
       "      <th>img_shape</th>\n",
       "      <th>font_size</th>\n",
       "      <th>font_id</th>\n",
       "      <th>skew_angle</th>\n",
       "      <th>blur</th>\n",
       "      <th>distorsion_type</th>\n",
       "      <th>background_type</th>\n",
       "    </tr>\n",
       "  </thead>\n",
       "  <tbody>\n",
       "    <tr>\n",
       "      <th>0</th>\n",
       "      <td>1</td>\n",
       "      <td>《格林童话》</td>\n",
       "      <td>6</td>\n",
       "      <td>98</td>\n",
       "      <td>30</td>\n",
       "      <td>FZKaiTi</td>\n",
       "      <td>1</td>\n",
       "      <td>0</td>\n",
       "      <td>Sine wave</td>\n",
       "      <td>Guassian</td>\n",
       "    </tr>\n",
       "    <tr>\n",
       "      <th>1</th>\n",
       "      <td>3</td>\n",
       "      <td>他们都是德国民间文学搜集</td>\n",
       "      <td>12</td>\n",
       "      <td>283</td>\n",
       "      <td>35</td>\n",
       "      <td>FZKaiTi</td>\n",
       "      <td>0</td>\n",
       "      <td>0</td>\n",
       "      <td>None</td>\n",
       "      <td>Guassian</td>\n",
       "    </tr>\n",
       "    <tr>\n",
       "      <th>2</th>\n",
       "      <td>4</td>\n",
       "      <td>青蛙王子</td>\n",
       "      <td>4</td>\n",
       "      <td>79</td>\n",
       "      <td>33</td>\n",
       "      <td>FZKaiTi</td>\n",
       "      <td>0</td>\n",
       "      <td>0</td>\n",
       "      <td>Sine wave</td>\n",
       "      <td>Plain white</td>\n",
       "    </tr>\n",
       "    <tr>\n",
       "      <th>3</th>\n",
       "      <td>0</td>\n",
       "      <td>我你我我我他他他我你</td>\n",
       "      <td>10</td>\n",
       "      <td>194</td>\n",
       "      <td>30</td>\n",
       "      <td>FZKaiTi</td>\n",
       "      <td>1</td>\n",
       "      <td>0</td>\n",
       "      <td>None</td>\n",
       "      <td>Guassian</td>\n",
       "    </tr>\n",
       "    <tr>\n",
       "      <th>4</th>\n",
       "      <td>8</td>\n",
       "      <td>\"啊！原来是你呀，游泳健</td>\n",
       "      <td>12</td>\n",
       "      <td>257</td>\n",
       "      <td>31</td>\n",
       "      <td>FZKaiTi</td>\n",
       "      <td>0</td>\n",
       "      <td>0</td>\n",
       "      <td>None</td>\n",
       "      <td>Guassian</td>\n",
       "    </tr>\n",
       "  </tbody>\n",
       "</table>\n",
       "</div>"
      ],
      "text/plain": [
       "  index          text text_length img_shape font_size  font_id skew_angle  \\\n",
       "0     1        《格林童话》           6        98        30  FZKaiTi          1   \n",
       "1     3  他们都是德国民间文学搜集          12       283        35  FZKaiTi          0   \n",
       "2     4          青蛙王子           4        79        33  FZKaiTi          0   \n",
       "3     0    我你我我我他他他我你          10       194        30  FZKaiTi          1   \n",
       "4     8  \"啊！原来是你呀，游泳健          12       257        31  FZKaiTi          0   \n",
       "\n",
       "  blur distorsion_type background_type  \n",
       "0    0       Sine wave        Guassian  \n",
       "1    0            None        Guassian  \n",
       "2    0       Sine wave     Plain white  \n",
       "3    0            None        Guassian  \n",
       "4    0            None        Guassian  "
      ]
     },
     "metadata": {},
     "output_type": "display_data"
    },
    {
     "name": "stdout",
     "output_type": "stream",
     "text": [
      "(32, 1752, 3)\n"
     ]
    }
   ],
   "source": [
    "display(df.head(5))\n",
    "print(target.shape)"
   ]
  },
  {
   "cell_type": "code",
   "execution_count": null,
   "metadata": {},
   "outputs": [],
   "source": []
  },
  {
   "cell_type": "code",
   "execution_count": 6,
   "metadata": {},
   "outputs": [
    {
     "data": {
      "text/plain": [
       "1752"
      ]
     },
     "execution_count": 6,
     "metadata": {},
     "output_type": "execute_result"
    }
   ],
   "source": [
    "# df['text'].map(len).sum()\n",
    "df['img_shape'].astype(np.int).sum()"
   ]
  },
  {
   "cell_type": "code",
   "execution_count": 7,
   "metadata": {},
   "outputs": [
    {
     "data": {
      "text/plain": [
       "<matplotlib.image.AxesImage at 0x7f2ed810a320>"
      ]
     },
     "execution_count": 7,
     "metadata": {},
     "output_type": "execute_result"
    },
    {
     "data": {
      "image/png": "[encoded data removed]",
      "text/plain": [
       "<matplotlib.figure.Figure at 0x7f2ed8c21240>"
      ]
     },
     "metadata": {},
     "output_type": "display_data"
    }
   ],
   "source": [
    "import matplotlib.pyplot as plt\n",
    "plt.imshow(target[:,208:(200+208),:])"
   ]
  },
  {
   "cell_type": "code",
   "execution_count": 8,
   "metadata": {},
   "outputs": [
    {
     "data": {
      "text/plain": [
       "<matplotlib.image.AxesImage at 0x7f2ed80807b8>"
      ]
     },
     "execution_count": 8,
     "metadata": {},
     "output_type": "execute_result"
    },
    {
     "data": {
      "image/png": "[encoded data removed]",
      "text/plain": [
       "<matplotlib.figure.Figure at 0x7f2ed8c0a710>"
      ]
     },
     "metadata": {},
     "output_type": "display_data"
    }
   ],
   "source": [
    "plt.imshow(target[:,(217+208):(217+208+204),:])"
   ]
  },
  {
   "cell_type": "code",
   "execution_count": 9,
   "metadata": {},
   "outputs": [
    {
     "name": "stdout",
     "output_type": "stream",
     "text": [
      "3\n"
     ]
    }
   ],
   "source": [
    "import random\n",
    "print(random.randint(-3,3))"
   ]
  },
  {
   "cell_type": "code",
   "execution_count": null,
   "metadata": {},
   "outputs": [],
   "source": []
  }
 ],
 "metadata": {
  "kernelspec": {
   "display_name": "Python 3",
   "language": "python",
   "name": "python3"
  },
  "language_info": {
   "codemirror_mode": {
    "name": "ipython",
    "version": 3
   },
   "file_extension": ".py",
   "mimetype": "text/x-python",
   "name": "python",
   "nbconvert_exporter": "python",
   "pygments_lexer": "ipython3",
   "version": "3.6.3"
  }
 },
 "nbformat": 4,
 "nbformat_minor": 2
}
