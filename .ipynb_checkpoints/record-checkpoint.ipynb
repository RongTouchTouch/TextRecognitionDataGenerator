{
 "cells": [
  {
   "cell_type": "code",
   "execution_count": null,
   "metadata": {},
   "outputs": [],
   "source": [
    "import matplotlib.pyplot as plt\n",
    "batch_100_acc=[0.96,0.96,0.98,0.97,0.94,0.99,0.9,0.96,0.98,0.99,0.99,0.98,0.99,0.94,0.98,0.97,0.97,0.97,0.92,0.98,0.99,0.92,0.93,0.92,0.99,0.99,0.96,0.96,0.91,0.97]\n",
    "batch_200_acc=[0.805,0.85,0.91,0.91,0.965,0.96,0.995,0.99,0.98,1,0.975,0.945,0.985,0.985,0.970,0.960,0.970,0.935,0.99,0.96,0.975,0.97,0.98,0.99,0.97,0.975,1,1,0.975,0.98]\n",
    "batch_400_acc=[0.955,0.953,0.955,0.943,0.988,0.932,0.983,0.907,0.963,0.927,0.980,0.953,0.895,0.930,0.953,0.973,0.968,0.953,0.950,0.945,0.95,0.958,0.968,0.953,0.905,0.963,0.925,0.948,0.984,0.963]\n",
    "batch_800_acc=[0.926,0.98,0.94,0.964,0.978,0.989,1,0.973,0.983,0.95,0.96,0.964,0.981,0.98,0.98,0.981,0.976,0.98,0.978,0.94,0.954,0.983,0.971,0.966,0.958,0.981,0.979,0.98,0.94,0.97]\n",
    "x= [i for i in range(0,30)]\n",
    "plt.plot(x,batch_100_acc,color = 'b',label=\"batch_100\")\n",
    "plt.plot(x,batch_200_acc,color = 'r',label=\"batch_200\")\n",
    "plt.plot(x,batch_400_acc,color = 'g',label=\"batch_400\")\n",
    "plt.plot(x,batch_800_acc,color = 'k',label=\"batch_800\")\n",
    "plt.xlabel(\"epoch\")\n",
    "plt.ylabel(\"accuracy\")\n",
    "plt.legend(loc = \"best\")\n",
    "plt.show()"
   ]
  },
  {
   "cell_type": "code",
   "execution_count": null,
   "metadata": {},
   "outputs": [],
   "source": [
    "import numpy as np\n",
    "var_100 = np.mean(batch_100_acc[6:30])\n",
    "var_200 = np.mean(batch_200_acc[6:30])\n",
    "var_400 = np.var(batch_400_acc[6:30])\n",
    "var_800 = np.var(batch_800_acc[6:30])\n",
    "print('var_100:',var_100)\n",
    "print('var_200:',var_200)\n",
    "print('var_400:',var_400)\n",
    "print('var_800:',var_800)\n",
    "var_100 = np.var(batch_100_acc[6:30])\n",
    "var_200 = np.var(batch_200_acc[6:30])\n",
    "var_400 = np.var(batch_400_acc[6:30])\n",
    "var_800 = np.var(batch_800_acc[6:30])\n",
    "print('var_100:',var_100)\n",
    "print('var_200:',var_200)\n",
    "print('var_400:',var_400)\n",
    "print('var_800:',var_800)"
   ]
  },
  {
   "cell_type": "code",
   "execution_count": null,
   "metadata": {},
   "outputs": [],
   "source": [
    "# train_batch=100\n",
    "import matplotlib.pyplot as plt\n",
    "feature8_set_random_acc=[0.05,0.05,0.05,0.15,0.25,0.25,0.25,0.25,0.5,0.6,0.45,0.75,0.65,0.55,0.85,0.75,0.55,0.7,0.65,0.65,0.65,0.65,0.75,0.7,0.85,0.45,0.8,0.8,0.7,0.6]\n",
    "classifier_set_random_acc=[0,0,0.05,0,0.15,0.1,0.2,0.4,0.35,0.35,0.55,0.45,0.45,0.7,0.3,0.5,0.4,0.25,0.65,0.85,0.35,0.4,0.55,0.5,0.7,0.5,0.4,0.45,0.7,0.55]\n",
    "not_modifited_acc=[0.85,0.9,0.75,0.9,0.85,0.9,0.9,0.7,0.95,1,0.95,0.9,1,1,0.95,1,0.7,1,0.95,1,1,0.95,1,0.95,1,0.95,1,0.9,1,1]\n",
    "x= [i for i in range(0,30)]\n",
    "plt.plot(x,feature8_set_random_acc,color = 'b',label=\"feature8_set_random\")\n",
    "plt.plot(x,classifier_set_random_acc,color = 'r',label=\"classifier_set_random\")\n",
    "plt.plot(x,not_modifited_acc,color = 'g',label=\"param_not_modifited\")\n",
    "plt.xlabel(\"epoch\")\n",
    "plt.ylabel(\"accuracy\")\n",
    "plt.legend(loc = \"best\")\n",
    "plt.show()"
   ]
  }
 ],
 "metadata": {
  "kernelspec": {
   "display_name": "Python 3",
   "language": "python",
   "name": "python3"
  },
  "language_info": {
   "codemirror_mode": {
    "name": "ipython",
    "version": 3
   },
   "file_extension": ".py",
   "mimetype": "text/x-python",
   "name": "python",
   "nbconvert_exporter": "python",
   "pygments_lexer": "ipython3",
   "version": "3.6.3"
  }
 },
 "nbformat": 4,
 "nbformat_minor": 2
}
