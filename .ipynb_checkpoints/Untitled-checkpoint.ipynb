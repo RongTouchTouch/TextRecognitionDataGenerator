{
 "cells": [
  {
   "cell_type": "code",
   "execution_count": 1,
   "metadata": {},
   "outputs": [],
   "source": [
    "import os\n",
    "import time\n",
    "import math\n",
    "import random\n",
    "import shutil\n",
    "import contextlib\n",
    "import matplotlib.pyplot as plt\n",
    "%matplotlib inline\n",
    "\n",
    "import torch\n",
    "import torch.optim as optim\n",
    "import torch.nn as nn\n",
    "import torch.nn.functional as F\n",
    "from torch.nn.utils.rnn import pad_sequence\n",
    "import torch.utils.data as data\n",
    "import torchvision.transforms as transforms\n",
    "\n",
    "from utils.converter import LabelConverter, IndexConverter\n",
    "from datasets.dataset import InMemoryDigitsDataset, DigitsDataset, collate_train, collate_dev, inmemory_train, inmemory_dev\n",
    "from generate import gen_text_img\n",
    "\n",
    "import arguments\n",
    "from models.densenet_ import DenseNet"
   ]
  },
  {
   "cell_type": "code",
   "execution_count": 2,
   "metadata": {},
   "outputs": [
    {
     "data": {
      "text/plain": [
       "0"
      ]
     },
     "execution_count": 2,
     "metadata": {},
     "output_type": "execute_result"
    }
   ],
   "source": [
    "torch.cuda.current_device()"
   ]
  },
  {
   "cell_type": "code",
   "execution_count": 42,
   "metadata": {},
   "outputs": [
    {
     "name": "stdout",
     "output_type": "stream",
     "text": [
      "torch.float32\n",
      "torch.int64\n",
      "torch.int32\n",
      "torch.int64\n"
     ]
    }
   ],
   "source": [
    "import torch\n",
    "import torch.nn as nn\n",
    "import torch.nn.functional as F\n",
    "import sys\n",
    "sys.argv = ['main.py','--dataset-root','alphabet','--arch','densenet121','--alphabet','alphabet/alphabet_decode_5990.txt',\n",
    "            '--lr','5e-5','--max-epoch','20','--optimizer','rmsprop','--gpu-id','0']\n",
    "args = arguments.parse_args()\n",
    "if args.gpu_id < 0:\n",
    "    device = torch.device(\"cpu\")\n",
    "else:\n",
    "#     os.environ[\"CUDA_VISIBLE_DEVICES\"] = str(args.gpu_id)\n",
    "    device = torch.device(\"cuda\")\n",
    "#     torch.backends.cudnn.benchmark = True\n",
    "    \n",
    "if os.path.isfile(args.alphabet):\n",
    "    alphabet = ''\n",
    "    with open(args.alphabet, mode='r', encoding='utf-8') as f:\n",
    "        for line in f.readlines():\n",
    "            alphabet += line.strip()\n",
    "    args.alphabet = alphabet\n",
    "\n",
    "num = 2\n",
    "dev_num = num\n",
    "use_file = 1\n",
    "text = \"嘤嘤嘤\"\n",
    "text_length = 10\n",
    "font_size = -1\n",
    "font_id = -1\n",
    "space_width = 1\n",
    "text_color = '#282828'\n",
    "thread_count = 8\n",
    "channel = 3\n",
    "\n",
    "random_skew = True\n",
    "skew_angle = 2\n",
    "random_blur = True\n",
    "blur = 0.5\n",
    "\n",
    "orientation = 0\n",
    "distorsion = -1\n",
    "distorsion_orientation = 2\n",
    "background = 1\n",
    "\n",
    "random_process = True\n",
    "noise = 20\n",
    "erode = 2\n",
    "dilate = 2\n",
    "incline = 10\n",
    "transform = transforms.Compose([\n",
    "    transforms.Resize((32, 280)),\n",
    "    transforms.ToTensor(),\n",
    "])\n",
    "\n",
    "model = DenseNet(num_classes=len(args.alphabet) + 1).to(device)\n",
    "text_meta, text_img = gen_text_img(num, use_file, text, text_length, font_size, font_id, space_width,\n",
    "                                       background, text_color,\n",
    "                                       orientation, blur, random_blur, distorsion, distorsion_orientation,\n",
    "                                       skew_angle, random_skew,\n",
    "                                       random_process, noise, erode, dilate, incline,\n",
    "                                                                thread_count)\n",
    "dev_meta, dev_img = text_meta, text_img\n",
    "\n",
    "index_converter = IndexConverter(args.alphabet, ignore_case=True)\n",
    "\n",
    "train_dataset = InMemoryDigitsDataset(mode='train', text=text_meta, img=text_img, total=num,\n",
    "                                     transform=transform, converter = index_converter)\n",
    "dev_dataset = InMemoryDigitsDataset(mode='dev', text=dev_meta, img=dev_img, total=num,\n",
    "                                   transform=transform, converter = index_converter)\n",
    "\n",
    "train_loader = data.DataLoader(dataset=train_dataset,batch_size=args.batch_size, num_workers=4, shuffle=True,\n",
    "                               collate_fn=collate_train, pin_memory=True)\n",
    "dev_loader = data.DataLoader(dataset=dev_dataset,batch_size=args.batch_size, num_workers=4, shuffle=False,\n",
    "                             collate_fn=collate_dev, pin_memory=False)\n",
    "\n",
    "for i, sample in enumerate(train_loader):\n",
    "        images = sample.images.to(device)\n",
    "        targets = sample.targets.type(torch.long).to(device)\n",
    "        target_lengths = sample.target_lengths.type(torch.long).to(device)\n",
    "        \n",
    "        log_probs = model(images).to(device)\n",
    "        input_lengths = torch.full((images.size(0),),log_probs.size(0), dtype=torch.long).to(device)\n",
    "        print(log_probs.dtype)\n",
    "        print(targets.dtype)\n",
    "        print(input_lengths.dtype)\n",
    "        print(target_lengths.dtype)\n",
    "        loss = ctc_loss(log_probs, targets, input_lengths, target_lengths)\n",
    "        loss.backward()"
   ]
  },
  {
   "cell_type": "code",
   "execution_count": 35,
   "metadata": {},
   "outputs": [],
   "source": [
    "T = 35      # Input sequence length\n",
    "C = 5990      # Number of classes (excluding blank)\n",
    "N = 64      # Batch size\n",
    "S = 30      # Target sequence length of longest target in batch\n",
    "S_min = 10  # Minimum target length, for demonstration purposes\n",
    "\n",
    "input = torch.randn(T, N, C).log_softmax(2).detach().requires_grad_()\n",
    "\n",
    "target = torch.randint(low=1, high=C+1, size=(N, S))\n",
    "input_lengths = torch.full(size=(N,), fill_value=T)\n",
    "target_lengths = torch.randint(low=S_min, high=S, size=(N,))\n",
    "\n",
    "device = torch.device(\"cuda\")\n",
    "\n",
    "input = input.to(device)\n",
    "target = target.to(device)\n",
    "input_lengths = input_lengths.to(device)\n",
    "target_lengths = target_lengths.to(device)\n",
    "\n",
    "loss = ctc_loss(input, target, input_lengths, target_lengths)\n",
    "loss.backward()"
   ]
  },
  {
   "cell_type": "code",
   "execution_count": 36,
   "metadata": {},
   "outputs": [
    {
     "name": "stdout",
     "output_type": "stream",
     "text": [
      "torch.float32\n",
      "torch.int64\n",
      "torch.float32\n",
      "torch.int64\n"
     ]
    }
   ],
   "source": [
    "print(input.dtype)\n",
    "print(target.dtype)\n",
    "print(input_lengths.dtype)\n",
    "print(target_lengths.dtype)"
   ]
  },
  {
   "cell_type": "code",
   "execution_count": 4,
   "metadata": {},
   "outputs": [
    {
     "name": "stdout",
     "output_type": "stream",
     "text": [
      "torch.Size([255, 16, 20])\n"
     ]
    }
   ],
   "source": [
    "print(input.shape)"
   ]
  },
  {
   "cell_type": "code",
   "execution_count": 5,
   "metadata": {},
   "outputs": [
    {
     "name": "stdout",
     "output_type": "stream",
     "text": [
      "torch.Size([16, 30])\n"
     ]
    }
   ],
   "source": [
    "print(target.shape)"
   ]
  },
  {
   "cell_type": "code",
   "execution_count": 6,
   "metadata": {},
   "outputs": [
    {
     "data": {
      "text/plain": [
       "tensor([255., 255., 255., 255., 255., 255., 255., 255., 255., 255., 255., 255.,\n",
       "        255., 255., 255., 255.], device='cuda:0')"
      ]
     },
     "execution_count": 6,
     "metadata": {},
     "output_type": "execute_result"
    }
   ],
   "source": [
    "input_lengths"
   ]
  },
  {
   "cell_type": "code",
   "execution_count": 7,
   "metadata": {},
   "outputs": [
    {
     "data": {
      "text/plain": [
       "tensor([19, 19, 17, 11, 28, 11, 28, 10, 25, 10, 10, 27, 14, 21, 11, 14],\n",
       "       device='cuda:0')"
      ]
     },
     "execution_count": 7,
     "metadata": {},
     "output_type": "execute_result"
    }
   ],
   "source": [
    "target_lengths"
   ]
  },
  {
   "cell_type": "code",
   "execution_count": 8,
   "metadata": {},
   "outputs": [],
   "source": [
    "ctc_loss = nn.CTCLoss().to(device)\n",
    "loss = ctc_loss(input, target, input_lengths, target_lengths)"
   ]
  },
  {
   "cell_type": "code",
   "execution_count": 46,
   "metadata": {},
   "outputs": [
    {
     "data": {
      "text/plain": [
       "'c.h.e.c.k.p.o.i.n.t'"
      ]
     },
     "execution_count": 46,
     "metadata": {},
     "output_type": "execute_result"
    }
   ],
   "source": [
    "import os\n",
    "format(os.curdir.join(\"checkpoint\"))\n"
   ]
  },
  {
   "cell_type": "code",
   "execution_count": 53,
   "metadata": {},
   "outputs": [
    {
     "data": {
      "text/plain": [
       "\".\\\\checkpoint\\\\new_prarams2.pth'\""
      ]
     },
     "execution_count": 53,
     "metadata": {},
     "output_type": "execute_result"
    }
   ],
   "source": [
    "os.path.join(os.curdir,\"checkpoint\",\"new_prarams2.pth'\")"
   ]
  },
  {
   "cell_type": "code",
   "execution_count": 51,
   "metadata": {},
   "outputs": [],
   "source": [
    "index = \"1234567890qwertyuiopasdfghjklzxcvbnm一二三四五六七八九十\"\n",
    "out=\"\"\n",
    "import random\n",
    "for i in range(5000):\n",
    "    out+=index[random.randint(0,len(index)-1)]"
   ]
  },
  {
   "cell_type": "code",
   "execution_count": 52,
   "metadata": {},
   "outputs": [
    {
     "data": {
      "text/plain": [
       "'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'"
      ]
     },
     "execution_count": 52,
     "metadata": {},
     "output_type": "execute_result"
    }
   ],
   "source": [
    "out"
   ]
  },
  {
   "cell_type": "code",
   "execution_count": null,
   "metadata": {},
   "outputs": [],
   "source": []
  }
 ],
 "metadata": {
  "kernelspec": {
   "display_name": "Python 3",
   "language": "python",
   "name": "python3"
  },
  "language_info": {
   "codemirror_mode": {
    "name": "ipython",
    "version": 3
   },
   "file_extension": ".py",
   "mimetype": "text/x-python",
   "name": "python",
   "nbconvert_exporter": "python",
   "pygments_lexer": "ipython3",
   "version": "3.7.1"
  }
 },
 "nbformat": 4,
 "nbformat_minor": 2
}
