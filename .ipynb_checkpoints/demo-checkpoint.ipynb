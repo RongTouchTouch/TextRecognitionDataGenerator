{
 "cells": [
  {
   "cell_type": "code",
   "execution_count": 2,
   "metadata": {},
   "outputs": [],
   "source": [
    "import matplotlib.pyplot as plt\n",
    "\n",
    "%matplotlib inline\n",
    "\n",
    "import torch\n",
    "import torchvision.transforms as transforms\n",
    "from models.densenet_ import DenseNet\n",
    "from datasets.datahelpers import default_loader\n",
    "from utils.converter import LabelConverter"
   ]
  },
  {
   "cell_type": "code",
   "execution_count": 3,
   "metadata": {},
   "outputs": [],
   "source": [
    "alphabet = ''\n",
    "with open('alphabet/alphabet_decode_5990.txt', mode='r', encoding='utf-8') as f:\n",
    "    for line in f.readlines():\n",
    "        alphabet += line.strip()"
   ]
  },
  {
   "cell_type": "code",
   "execution_count": null,
   "metadata": {},
   "outputs": [],
   "source": [
    "num = 100\n",
    "dev_num = num\n",
    "use_file = 1\n",
    "text = \"嘤嘤嘤\"\n",
    "text_length = 2\n",
    "font_size = 32\n",
    "font_id = -1\n",
    "space_width = 1\n",
    "text_color = '#282828'\n",
    "thread_count = 8\n",
    "channel = 3\n",
    "\n",
    "random_skew = True\n",
    "skew_angle = 2\n",
    "random_blur = True\n",
    "blur = 0.5\n",
    "\n",
    "orientation = 0\n",
    "distorsion = -1\n",
    "distorsion_orientation = 2\n",
    "background = 1\n",
    "\n",
    "random_process = True\n",
    "noise = 20\n",
    "erode = 1\n",
    "dilate = 2\n",
    "incline = 10\n"
   ]
  },
  {
   "cell_type": "code",
   "execution_count": 60,
   "metadata": {},
   "outputs": [
    {
     "name": "stdout",
     "output_type": "stream",
     "text": [
      "image name: out/target.jpg\n"
     ]
    }
   ],
   "source": [
    "device = torch.device(\"cpu\")\n",
    "model_path = 'pretrained/new_prarams.pth'\n",
    "\n",
    "model = DenseNet(num_classes=len(alphabet) + 1).to(device)\n",
    "checkpoint = torch.load(model_path, map_location='cpu')\n",
    "model.load_state_dict(checkpoint)\n",
    "\n",
    "converter = LabelConverter(alphabet, ignore_case=False)\n",
    "\n",
    "transform = transforms.Compose([\n",
    "    transforms.Resize((32, 32*text_length)),\n",
    "    transforms.ToTensor(),\n",
    "])"
   ]
  },
  {
   "cell_type": "code",
   "execution_count": 61,
   "metadata": {},
   "outputs": [
    {
     "data": {
      "text/plain": [
       "torch.Size([32, 237, 1])"
      ]
     },
     "execution_count": 61,
     "metadata": {},
     "output_type": "execute_result"
    }
   ],
   "source": [
    "text_meta, text_img = gen_text_img(num, use_file, text, text_length, font_size, font_id, space_width,\n",
    "                                   background, text_color,\n",
    "                                   orientation, blur, random_blur, distorsion, distorsion_orientation,\n",
    "                                   skew_angle, random_skew,\n",
    "                                   random_process, noise, erode, dilate, incline,\n",
    "                                   thread_count)"
   ]
  }
 ],
 "metadata": {
  "kernelspec": {
   "display_name": "Python 3",
   "language": "python",
   "name": "python3"
  },
  "language_info": {
   "codemirror_mode": {
    "name": "ipython",
    "version": 3
   },
   "file_extension": ".py",
   "mimetype": "text/x-python",
   "name": "python",
   "nbconvert_exporter": "python",
   "pygments_lexer": "ipython3",
   "version": "3.7.1"
  }
 },
 "nbformat": 4,
 "nbformat_minor": 2
}
