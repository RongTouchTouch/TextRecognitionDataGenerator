{
 "cells": [
  {
   "cell_type": "code",
   "execution_count": 52,
   "metadata": {},
   "outputs": [
    {
     "ename": "ImportError",
     "evalue": "cannot import name 'create_strings_from_file_random'",
     "output_type": "error",
     "traceback": [
      "\u001b[0;31m---------------------------------------------------------------------------\u001b[0m",
      "\u001b[0;31mImportError\u001b[0m                               Traceback (most recent call last)",
      "\u001b[0;32m<ipython-input-52-8481a23151f5>\u001b[0m in \u001b[0;36m<module>\u001b[0;34m()\u001b[0m\n\u001b[1;32m      8\u001b[0m \u001b[0;34m\u001b[0m\u001b[0m\n\u001b[1;32m      9\u001b[0m \u001b[0;32mfrom\u001b[0m \u001b[0mtqdm\u001b[0m \u001b[0;32mimport\u001b[0m \u001b[0mtqdm\u001b[0m\u001b[0;34m\u001b[0m\u001b[0m\n\u001b[0;32m---> 10\u001b[0;31m from string_generator import (\n\u001b[0m\u001b[1;32m     11\u001b[0m     \u001b[0mcreate_strings_from_dict\u001b[0m\u001b[0;34m,\u001b[0m\u001b[0;34m\u001b[0m\u001b[0m\n\u001b[1;32m     12\u001b[0m     \u001b[0mcreate_strings_from_file\u001b[0m\u001b[0;34m,\u001b[0m\u001b[0;34m\u001b[0m\u001b[0m\n",
      "\u001b[0;31mImportError\u001b[0m: cannot import name 'create_strings_from_file_random'"
     ]
    }
   ],
   "source": [
    "import os\n",
    "import random\n",
    "import pandas as pd\n",
    "import numpy as np\n",
    "import cv2\n",
    "import time\n",
    "import threading\n",
    "\n",
    "from tqdm import tqdm\n",
    "from string_generator import (\n",
    "    create_strings_from_dict,\n",
    "    create_strings_from_file,\n",
    "    create_strings_from_file_random,\n",
    "    create_strings_from_wikipedia,\n",
    "    create_strings_randomly\n",
    ")\n",
    "from data_generator import FakeTextDataGenerator\n",
    "from multiprocessing import Pool"
   ]
  },
  {
   "cell_type": "code",
   "execution_count": 53,
   "metadata": {},
   "outputs": [],
   "source": [
    "def margins(margin):\n",
    "    margins = margin.split(',')\n",
    "    if len(margins) == 1:\n",
    "        return [margins[0]] * 4\n",
    "    return [int(m) for m in margins]\n",
    "\n",
    "\n",
    "def load_dict(lang):\n",
    "    \"\"\"\n",
    "    read dictionary and return all words in it\n",
    "    :return:\n",
    "    \"\"\"\n",
    "    lang_dict = []\n",
    "    with open(os.path.join('dicts', lang + '.txt'),'r',encoding='utf8',errors='ignore') as d:\n",
    "        lang_dict = d.readlines()\n",
    "    return lang_dict\n",
    "\n",
    "\n",
    "def load_files(lang):\n",
    "    \"\"\"\n",
    "    read files and return file path to string_generator\n",
    "    :return:\n",
    "    \"\"\"\n",
    "    if lang == 'cn':\n",
    "        return [os.path.join('files/cn', file) for file in os.listdir('files/cn')]\n",
    "    else:\n",
    "        return [os.path.join('files/latin', file) for file in os.listdir('files/latin')]\n",
    "\n",
    "\n",
    "def load_fonts(lang):\n",
    "    \"\"\"\n",
    "    read .ttf files and return the fonts\n",
    "    P.S. only Truetype is allowed\n",
    "    :return:\n",
    "    \"\"\"\n",
    "    if lang == 'cn':\n",
    "        return [os.path.join('fonts/cn', font) for font in os.listdir('fonts/cn')]\n",
    "    else:\n",
    "        return [os.path.join('fonts/latin', font) for font in os.listdir('fonts/latin')]"
   ]
  },
  {
   "cell_type": "code",
   "execution_count": 54,
   "metadata": {},
   "outputs": [],
   "source": [
    "def gen_text_img(num, use_file, text_length, font_size, font_id, space_width, background, text_color,\n",
    "                 blur, random_blur, distorsion, skew_angle, random_skew, thread_count):\n",
    "    \"\"\"\n",
    "\n",
    "    :param num:\n",
    "    :param use_file:\n",
    "    :param text_length:\n",
    "    :param font_size:\n",
    "    :param font_id:\n",
    "    :param space_width:\n",
    "    :param background:\n",
    "    :param text_color:\n",
    "    :param blur:\n",
    "    :param distorsion:\n",
    "    :param skew_angle:\n",
    "    :param thread_count:\n",
    "    :return:\n",
    "    \"\"\"\n",
    "\n",
    "    # Constant\n",
    "    output_dir = 'out/'\n",
    "    extension = 'jpg'\n",
    "    distorsion_orientation = 0\n",
    "    handwritten = False\n",
    "    name_format = 0\n",
    "    width = -1\n",
    "    alignment = 1\n",
    "    orientation = 0\n",
    "    margins = (5, 5, 5, 5)\n",
    "    fit = False\n",
    "\n",
    "    language = 'cn'\n",
    "    lang_dict = load_dict(language)\n",
    "\n",
    "    fonts = load_fonts(language)\n",
    "\n",
    "    if use_file:\n",
    "        file_names = load_files(language)\n",
    "        if text_length==-1:\n",
    "            strings = create_strings_from_file_random(file_names, num)\n",
    "        else:\n",
    "            strings = create_strings_from_file(file_names, text_length, num)\n",
    "    else:\n",
    "        # to be implemented\n",
    "        strings = create_strings_from_dict(text_length, num, lang_dict)\n",
    "\n",
    "    p = Pool(thread_count)\n",
    "    mutex = threading.Lock()\n",
    "    result = []\n",
    "    for _, img in p.imap_unordered(\n",
    "            FakeTextDataGenerator.generate_from_tuple,\n",
    "            zip(\n",
    "                [i for i in range(0, num)],\n",
    "                strings,\n",
    "                [fonts[font_id]] * num if font_id else [fonts[random.randrange(0, len(fonts))] for _ in range(0, num)],\n",
    "                [output_dir] * num,\n",
    "                [font_size] * num if font_size else [random.randrange(28, 36) for _ in range(0, num)],\n",
    "                [extension] * num,\n",
    "                [skew_angle] * num,\n",
    "                [random_skew] * num,\n",
    "                [blur] * num,\n",
    "                [random_blur] * num,\n",
    "                [background] * num if background>=0 else [random.randint(0, 2) for _ in range(0, num)],\n",
    "                [distorsion] * num if distorsion>=0 else [random.randint(0, 2) for _ in range(0, num)],\n",
    "                [distorsion_orientation] * num,\n",
    "                [handwritten] * num,\n",
    "                [name_format] * num,\n",
    "                [width] * num,\n",
    "                [alignment] * num,\n",
    "                [text_color] * num,\n",
    "                [orientation] * num,\n",
    "                [space_width] * num,\n",
    "                [margins] * num,\n",
    "                [fit] * num\n",
    "            )\n",
    "    ):\n",
    "        if mutex.acquire(1):\n",
    "            result.append((_, img))\n",
    "            mutex.release()\n",
    "\n",
    "    p.terminate()\n",
    "    final_image = np.concatenate([img for _, img in result], axis=1)\n",
    "    df = pd.concat([meta for meta, _ in result])\n",
    "    df = df.reset_index(drop=True)\n",
    "\n",
    "    return df, final_image"
   ]
  },
  {
   "cell_type": "code",
   "execution_count": 51,
   "metadata": {},
   "outputs": [
    {
     "ename": "NameError",
     "evalue": "name 'create_strings_from_file_random' is not defined",
     "output_type": "error",
     "traceback": [
      "\u001b[0;31m---------------------------------------------------------------------------\u001b[0m",
      "\u001b[0;31mNameError\u001b[0m                                 Traceback (most recent call last)",
      "\u001b[0;32m<ipython-input-51-8f78339e3051>\u001b[0m in \u001b[0;36m<module>\u001b[0;34m()\u001b[0m\n\u001b[1;32m     31\u001b[0m \u001b[0mstart_time\u001b[0m \u001b[0;34m=\u001b[0m \u001b[0mtime\u001b[0m\u001b[0;34m.\u001b[0m\u001b[0mtime\u001b[0m\u001b[0;34m(\u001b[0m\u001b[0;34m)\u001b[0m\u001b[0;34m\u001b[0m\u001b[0m\n\u001b[1;32m     32\u001b[0m df, target = gen_text_img(num, use_file, text_length, font_size, font_id, space_width, background, text_color,\n\u001b[0;32m---> 33\u001b[0;31m                           blur,random_blur, distorsion, skew_angle, random_skew, thread_count)\n\u001b[0m\u001b[1;32m     34\u001b[0m \u001b[0mcv2\u001b[0m\u001b[0;34m.\u001b[0m\u001b[0mimwrite\u001b[0m\u001b[0;34m(\u001b[0m\u001b[0mos\u001b[0m\u001b[0;34m.\u001b[0m\u001b[0mpath\u001b[0m\u001b[0;34m.\u001b[0m\u001b[0mjoin\u001b[0m\u001b[0;34m(\u001b[0m\u001b[0;34m'out/'\u001b[0m \u001b[0;34m+\u001b[0m \u001b[0;34m'target.jpg'\u001b[0m\u001b[0;34m)\u001b[0m\u001b[0;34m,\u001b[0m \u001b[0mtarget\u001b[0m\u001b[0;34m)\u001b[0m\u001b[0;34m\u001b[0m\u001b[0m\n\u001b[1;32m     35\u001b[0m \u001b[0mend_time\u001b[0m \u001b[0;34m=\u001b[0m \u001b[0mtime\u001b[0m\u001b[0;34m.\u001b[0m\u001b[0mtime\u001b[0m\u001b[0;34m(\u001b[0m\u001b[0;34m)\u001b[0m\u001b[0;34m\u001b[0m\u001b[0m\n",
      "\u001b[0;32m<ipython-input-48-be7b383660c9>\u001b[0m in \u001b[0;36mgen_text_img\u001b[0;34m(num, use_file, text_length, font_size, font_id, space_width, background, text_color, blur, random_blur, distorsion, skew_angle, random_skew, thread_count)\u001b[0m\n\u001b[1;32m     38\u001b[0m         \u001b[0mfile_names\u001b[0m \u001b[0;34m=\u001b[0m \u001b[0mload_files\u001b[0m\u001b[0;34m(\u001b[0m\u001b[0mlanguage\u001b[0m\u001b[0;34m)\u001b[0m\u001b[0;34m\u001b[0m\u001b[0m\n\u001b[1;32m     39\u001b[0m         \u001b[0;32mif\u001b[0m \u001b[0mtext_length\u001b[0m\u001b[0;34m==\u001b[0m\u001b[0;34m-\u001b[0m\u001b[0;36m1\u001b[0m\u001b[0;34m:\u001b[0m\u001b[0;34m\u001b[0m\u001b[0m\n\u001b[0;32m---> 40\u001b[0;31m             \u001b[0mstrings\u001b[0m \u001b[0;34m=\u001b[0m \u001b[0mcreate_strings_from_file_random\u001b[0m\u001b[0;34m(\u001b[0m\u001b[0mfile_names\u001b[0m\u001b[0;34m,\u001b[0m \u001b[0mnum\u001b[0m\u001b[0;34m)\u001b[0m\u001b[0;34m\u001b[0m\u001b[0m\n\u001b[0m\u001b[1;32m     41\u001b[0m         \u001b[0;32melse\u001b[0m\u001b[0;34m:\u001b[0m\u001b[0;34m\u001b[0m\u001b[0m\n\u001b[1;32m     42\u001b[0m             \u001b[0mstrings\u001b[0m \u001b[0;34m=\u001b[0m \u001b[0mcreate_strings_from_file\u001b[0m\u001b[0;34m(\u001b[0m\u001b[0mfile_names\u001b[0m\u001b[0;34m,\u001b[0m \u001b[0mtext_length\u001b[0m\u001b[0;34m,\u001b[0m \u001b[0mnum\u001b[0m\u001b[0;34m)\u001b[0m\u001b[0;34m\u001b[0m\u001b[0m\n",
      "\u001b[0;31mNameError\u001b[0m: name 'create_strings_from_file_random' is not defined"
     ]
    }
   ],
   "source": [
    "num = 10\n",
    "use_file = 1\n",
    "text_length = -1\n",
    "font_size = 0\n",
    "font_id = 1\n",
    "space_width = 1\n",
    "text_color = '#282828'\n",
    "thread_count = 8\n",
    "\n",
    "# skew & blur \n",
    "\"\"\"\n",
    "    If random_xxx is set True, the following variable decides the range.\n",
    "    If random_xxx is set True, the following variable decides the constant.\n",
    "    The variable should be set in NON-NEGATIVE INTEGER.\n",
    "    skew_angle is better not be greater than 3.\n",
    "    blur is better not be greater than 2.   \n",
    "\"\"\"\n",
    "random_skew = True\n",
    "skew_angle = 1\n",
    "random_blur = True\n",
    "blur = 0\n",
    "\n",
    "#distorsion & background \n",
    "\"\"\"\n",
    "    distorsion: 0: None (Default), 1: Sine wave, 2: Cosine wave, -1: Random\n",
    "    background: 0: Gaussian Noise, 1: Plain white, 2: Quasicrystal, -1:Random\n",
    "\"\"\"\n",
    "distorsion = -1\n",
    "background = -1\n",
    "\n",
    "start_time = time.time()\n",
    "df, target = gen_text_img(num, use_file, text_length, font_size, font_id, space_width, background, text_color,\n",
    "                          blur,random_blur, distorsion, skew_angle, random_skew, thread_count)\n",
    "cv2.imwrite(os.path.join('out/' + 'target.jpg'), target)\n",
    "end_time = time.time()\n",
    "print('time for synthesize 1000 image:', end_time - start_time)\n",
    "print(df)\n"
   ]
  },
  {
   "cell_type": "code",
   "execution_count": 55,
   "metadata": {},
   "outputs": [
    {
     "data": {
      "text/html": [
       "<div>\n",
       "<table border=\"1\" class=\"dataframe\">\n",
       "  <thead>\n",
       "    <tr style=\"text-align: right;\">\n",
       "      <th></th>\n",
       "      <th>index</th>\n",
       "      <th>text</th>\n",
       "      <th>img_shape</th>\n",
       "      <th>font_size</th>\n",
       "      <th>font_id</th>\n",
       "      <th>skew_angle</th>\n",
       "      <th>distorsion_type</th>\n",
       "      <th>blur</th>\n",
       "      <th>background_type</th>\n",
       "    </tr>\n",
       "  </thead>\n",
       "  <tbody>\n",
       "    <tr>\n",
       "      <th>0</th>\n",
       "      <td>4</td>\n",
       "      <td>里三层外三层地包裹住</td>\n",
       "      <td>188</td>\n",
       "      <td>30</td>\n",
       "      <td>FZKaiTi</td>\n",
       "      <td>-1</td>\n",
       "      <td>None</td>\n",
       "      <td>0</td>\n",
       "      <td>Plain white</td>\n",
       "    </tr>\n",
       "    <tr>\n",
       "      <th>1</th>\n",
       "      <td>1</td>\n",
       "      <td>涯给幸存者留下的标记</td>\n",
       "      <td>188</td>\n",
       "      <td>30</td>\n",
       "      <td>FZKaiTi</td>\n",
       "      <td>-1</td>\n",
       "      <td>None</td>\n",
       "      <td>0</td>\n",
       "      <td>Guassian</td>\n",
       "    </tr>\n",
       "    <tr>\n",
       "      <th>2</th>\n",
       "      <td>5</td>\n",
       "      <td>，封存在箱子里；惟恐</td>\n",
       "      <td>146</td>\n",
       "      <td>29</td>\n",
       "      <td>FZKaiTi</td>\n",
       "      <td>-1</td>\n",
       "      <td>Cosine wave</td>\n",
       "      <td>0</td>\n",
       "      <td>Plain white</td>\n",
       "    </tr>\n",
       "    <tr>\n",
       "      <th>3</th>\n",
       "      <td>6</td>\n",
       "      <td>它们跟那些生灵一般，</td>\n",
       "      <td>151</td>\n",
       "      <td>32</td>\n",
       "      <td>FZKaiTi</td>\n",
       "      <td>-1</td>\n",
       "      <td>Cosine wave</td>\n",
       "      <td>0</td>\n",
       "      <td>Plain white</td>\n",
       "    </tr>\n",
       "    <tr>\n",
       "      <th>4</th>\n",
       "      <td>8</td>\n",
       "      <td>直至一个晴朗得要命的</td>\n",
       "      <td>150</td>\n",
       "      <td>29</td>\n",
       "      <td>FZKaiTi</td>\n",
       "      <td>-1</td>\n",
       "      <td>Cosine wave</td>\n",
       "      <td>0</td>\n",
       "      <td>Plain white</td>\n",
       "    </tr>\n",
       "  </tbody>\n",
       "</table>\n",
       "</div>"
      ],
      "text/plain": [
       "  index        text img_shape font_size  font_id skew_angle distorsion_type  \\\n",
       "0     4  里三层外三层地包裹住       188        30  FZKaiTi         -1            None   \n",
       "1     1  涯给幸存者留下的标记       188        30  FZKaiTi         -1            None   \n",
       "2     5  ，封存在箱子里；惟恐       146        29  FZKaiTi         -1     Cosine wave   \n",
       "3     6  它们跟那些生灵一般，       151        32  FZKaiTi         -1     Cosine wave   \n",
       "4     8  直至一个晴朗得要命的       150        29  FZKaiTi         -1     Cosine wave   \n",
       "\n",
       "  blur background_type  \n",
       "0    0     Plain white  \n",
       "1    0        Guassian  \n",
       "2    0     Plain white  \n",
       "3    0     Plain white  \n",
       "4    0     Plain white  "
      ]
     },
     "metadata": {},
     "output_type": "display_data"
    },
    {
     "name": "stdout",
     "output_type": "stream",
     "text": [
      "(32, 1657, 3)\n"
     ]
    }
   ],
   "source": [
    "display(df.head(5))\n",
    "print(target.shape)"
   ]
  },
  {
   "cell_type": "code",
   "execution_count": null,
   "metadata": {},
   "outputs": [],
   "source": []
  },
  {
   "cell_type": "code",
   "execution_count": 11,
   "metadata": {},
   "outputs": [
    {
     "data": {
      "text/plain": [
       "1612"
      ]
     },
     "execution_count": 11,
     "metadata": {},
     "output_type": "execute_result"
    }
   ],
   "source": [
    "# df['text'].map(len).sum()\n",
    "df['img_shape'].astype(np.int).sum()"
   ]
  },
  {
   "cell_type": "code",
   "execution_count": 12,
   "metadata": {},
   "outputs": [
    {
     "data": {
      "text/plain": [
       "<matplotlib.image.AxesImage at 0x7fbf4a1fd630>"
      ]
     },
     "execution_count": 12,
     "metadata": {},
     "output_type": "execute_result"
    },
    {
     "data": {
      "image/png": "[encoded data removed]",
      "text/plain": [
       "<matplotlib.figure.Figure at 0x7fbf4a1fda90>"
      ]
     },
     "metadata": {},
     "output_type": "display_data"
    }
   ],
   "source": [
    "import matplotlib.pyplot as plt\n",
    "plt.imshow(target[:,208:(200+208),:])"
   ]
  },
  {
   "cell_type": "code",
   "execution_count": 13,
   "metadata": {},
   "outputs": [
    {
     "data": {
      "text/plain": [
       "<matplotlib.image.AxesImage at 0x7fbf48998a20>"
      ]
     },
     "execution_count": 13,
     "metadata": {},
     "output_type": "execute_result"
    },
    {
     "data": {
      "image/png": "[encoded data removed]",
      "text/plain": [
       "<matplotlib.figure.Figure at 0x7fbf4a201710>"
      ]
     },
     "metadata": {},
     "output_type": "display_data"
    }
   ],
   "source": [
    "plt.imshow(target[:,(217+208):(217+208+204),:])"
   ]
  },
  {
   "cell_type": "code",
   "execution_count": 9,
   "metadata": {},
   "outputs": [
    {
     "name": "stdout",
     "output_type": "stream",
     "text": [
      "-2\n"
     ]
    }
   ],
   "source": [
    "import random\n",
    "print(random.randint(-3,3))"
   ]
  },
  {
   "cell_type": "code",
   "execution_count": null,
   "metadata": {},
   "outputs": [],
   "source": []
  }
 ],
 "metadata": {
  "kernelspec": {
   "display_name": "Python 3",
   "language": "python",
   "name": "python3"
  },
  "language_info": {
   "codemirror_mode": {
    "name": "ipython",
    "version": 3
   },
   "file_extension": ".py",
   "mimetype": "text/x-python",
   "name": "python",
   "nbconvert_exporter": "python",
   "pygments_lexer": "ipython3",
   "version": "3.6.3"
  }
 },
 "nbformat": 4,
 "nbformat_minor": 2
}
